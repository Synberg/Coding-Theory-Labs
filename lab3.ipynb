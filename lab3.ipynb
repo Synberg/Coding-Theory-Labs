{
 "cells": [
  {
   "cell_type": "code",
   "execution_count": 845,
   "metadata": {},
   "outputs": [],
   "source": [
    "import numpy as np\n",
    "import itertools\n",
    "import random"
   ]
  },
  {
   "cell_type": "markdown",
   "metadata": {},
   "source": [
    "# 3.1"
   ]
  },
  {
   "cell_type": "markdown",
   "metadata": {},
   "source": [
    "Напишем функцию формирования проверочной матрицы кода Хэмминга"
   ]
  },
  {
   "cell_type": "code",
   "execution_count": 846,
   "metadata": {},
   "outputs": [],
   "source": [
    "def generate_hamming_h_matrix(r: int) -> np.ndarray:\n",
    "    n = 2 ** r - 1  # Число строк и столбцов\n",
    "    res = []\n",
    "    cur_r = r - 1\n",
    "    for i in range(n, 0, -1):\n",
    "        if i != 2 ** cur_r:\n",
    "            res.append(list(map(int, f\"{i:0{r}b}\")))\n",
    "        else:\n",
    "            cur_r -= 1\n",
    "\n",
    "    # Единичная матрица r x r в нижней части\n",
    "    identity_matrix = np.eye(r, dtype=int)\n",
    "\n",
    "    # Объединяем верхнюю часть и единичную матрицу\n",
    "    H = np.vstack((res, identity_matrix))\n",
    "\n",
    "    return H"
   ]
  },
  {
   "cell_type": "markdown",
   "metadata": {},
   "source": [
    "Возьмем r = 2, получим проверочную матрицу следующего вида"
   ]
  },
  {
   "cell_type": "code",
   "execution_count": 847,
   "metadata": {},
   "outputs": [
    {
     "data": {
      "text/plain": [
       "array([[1, 1],\n",
       "       [1, 0],\n",
       "       [0, 1]])"
      ]
     },
     "execution_count": 847,
     "metadata": {},
     "output_type": "execute_result"
    }
   ],
   "source": [
    "r = 2\n",
    "H = generate_hamming_h_matrix(r)\n",
    "H"
   ]
  },
  {
   "cell_type": "markdown",
   "metadata": {},
   "source": [
    "Функция для построения порождающей матрицы кода Хэмминга на основе проверочной матрицы"
   ]
  },
  {
   "cell_type": "code",
   "execution_count": 848,
   "metadata": {},
   "outputs": [],
   "source": [
    "def H_to_G(H: np.ndarray, r) -> np.ndarray:\n",
    "    k = 2 ** r - r - 1\n",
    "    res = np.eye(k, dtype=int)  # Единичная матрица\n",
    "    G = np.hstack((res, H[:k]))\n",
    "    return G"
   ]
  },
  {
   "cell_type": "markdown",
   "metadata": {},
   "source": [
    "Проверим функцию и построим порождающую матрицу"
   ]
  },
  {
   "cell_type": "code",
   "execution_count": 849,
   "metadata": {},
   "outputs": [
    {
     "data": {
      "text/plain": [
       "array([[1, 1, 1]])"
      ]
     },
     "execution_count": 849,
     "metadata": {},
     "output_type": "execute_result"
    }
   ],
   "source": [
    "G = H_to_G(H, r)\n",
    "G"
   ]
  },
  {
   "cell_type": "markdown",
   "metadata": {},
   "source": [
    "Функция для построения таблицы синдромов"
   ]
  },
  {
   "cell_type": "code",
   "execution_count": 850,
   "metadata": {},
   "outputs": [],
   "source": [
    "def generate_syndrome_table(matrix: np.ndarray, error_weight: int) -> dict:\n",
    "    n = matrix.shape[0]\n",
    "    syndrome_table = {}\n",
    "    for error in range(1, error_weight + 1):\n",
    "        for error_indices in itertools.combinations(range(n), error):\n",
    "            error_vector = np.zeros(n, dtype=int)\n",
    "            for index in error_indices:\n",
    "                error_vector[index] = 1\n",
    "            syndrome = error_vector @ matrix % 2\n",
    "            syndrome_table[tuple(map(int, syndrome))] = tuple(error_indices)\n",
    "\n",
    "    return syndrome_table"
   ]
  },
  {
   "cell_type": "markdown",
   "metadata": {},
   "source": [
    "# 3.2"
   ]
  },
  {
   "cell_type": "markdown",
   "metadata": {},
   "source": [
    "Сформируем таблицу синдромов для всех единичных ошибок"
   ]
  },
  {
   "cell_type": "code",
   "execution_count": 851,
   "metadata": {},
   "outputs": [
    {
     "data": {
      "text/plain": [
       "{(1, 1): (0,), (1, 0): (1,), (0, 1): (2,)}"
      ]
     },
     "execution_count": 851,
     "metadata": {},
     "output_type": "execute_result"
    }
   ],
   "source": [
    "syndrome_table = generate_syndrome_table(H, 1)\n",
    "syndrome_table"
   ]
  },
  {
   "cell_type": "markdown",
   "metadata": {},
   "source": [
    "Функция для допущения и проверки ошибки"
   ]
  },
  {
   "cell_type": "code",
   "execution_count": 852,
   "metadata": {},
   "outputs": [],
   "source": [
    "def hamming_correction_test(G: np.ndarray, H: np.ndarray, syndrome_table: dict, error_degree: int, u: np.ndarray):\n",
    "    # Шаг 1: Выбираем случайное кодовое слово из G\n",
    "    print(\"Кодовое слово (u):\", u)\n",
    "    \n",
    "    # Шаг 2: Генерируем кодовое слово\n",
    "    v = u @ G % 2\n",
    "    print(\"Отправленное кодовое слово (v):\", v)\n",
    "    \n",
    "    # Шаг 3: Допускаем ошибку error_degree в принятом кодовом слове\n",
    "    error = np.zeros(v.shape[0], dtype=int)\n",
    "    error_indices = random.sample(range(v.shape[0]), error_degree)  # случайные индексы ошибок\n",
    "    for index in error_indices:\n",
    "        error[index] = 1\n",
    "    print(\"Допущенная ошибка:\", error)\n",
    "    \n",
    "    # Принятое слово с ошибкой\n",
    "    received_v = (v + error) % 2\n",
    "    print(\"Принятое с ошибкой слово:\", received_v)\n",
    "    \n",
    "    # Шаг 4: Вычисляем синдром принятого слова\n",
    "    syndrome = received_v @ H % 2\n",
    "    print(\"Синдром принятого сообщения:\", syndrome)\n",
    "    if sum(syndrome) != 0:\n",
    "        print(\"Обнаружена ошибка!\")\n",
    "    \n",
    "    # Шаг 5: Проверяем синдром в таблице синдромов и корректируем ошибку\n",
    "    if tuple(syndrome) in syndrome_table:\n",
    "        correction_indices = syndrome_table[tuple(syndrome)]\n",
    "        for index in correction_indices:\n",
    "            received_v[index] = (received_v[index] + 1) % 2  # корректируем ошибку\n",
    "        print(\"Исправленное сообщение:\", received_v)\n",
    "        \n",
    "        # Проверка совпадения с отправленным сообщением\n",
    "        if np.array_equal(v, received_v):\n",
    "            print(\"Ошибка была исправлена успешно!\")\n",
    "        else:\n",
    "            print(\"Ошибка не была исправлена корректно.\")\n",
    "    else:\n",
    "        print(\"Синдрома нет в таблице, ошибка не исправлена.\")"
   ]
  },
  {
   "cell_type": "markdown",
   "metadata": {},
   "source": [
    "Проведем исследование кода Хэмминга для ошибки кратности 1. Передаем сообщение длины 2^r - r - 1 = 2^2 - 2 - 1 = 1: \"1 0 0 1\"."
   ]
  },
  {
   "cell_type": "code",
   "execution_count": 853,
   "metadata": {},
   "outputs": [
    {
     "name": "stdout",
     "output_type": "stream",
     "text": [
      "Кодовое слово (u): [1]\n",
      "Отправленное кодовое слово (v): [1 1 1]\n",
      "Допущенная ошибка: [1 0 0]\n",
      "Принятое с ошибкой слово: [0 1 1]\n",
      "Синдром принятого сообщения: [1 1]\n",
      "Обнаружена ошибка!\n",
      "Исправленное сообщение: [1 1 1]\n",
      "Ошибка была исправлена успешно!\n"
     ]
    }
   ],
   "source": [
    "hamming_correction_test(G, H, syndrome_table, 1, np.array([1]))"
   ]
  },
  {
   "cell_type": "markdown",
   "metadata": {},
   "source": [
    "Код успешно отловил ошибку и исправил ее. Теперь попробуем допустить двухкратную ошибку"
   ]
  },
  {
   "cell_type": "code",
   "execution_count": 854,
   "metadata": {},
   "outputs": [
    {
     "name": "stdout",
     "output_type": "stream",
     "text": [
      "Кодовое слово (u): [1]\n",
      "Отправленное кодовое слово (v): [1 1 1]\n",
      "Допущенная ошибка: [1 1 0]\n",
      "Принятое с ошибкой слово: [0 0 1]\n",
      "Синдром принятого сообщения: [0 1]\n",
      "Обнаружена ошибка!\n",
      "Исправленное сообщение: [0 0 0]\n",
      "Ошибка не была исправлена корректно.\n"
     ]
    }
   ],
   "source": [
    "hamming_correction_test(G, H, syndrome_table, 2, np.array([1]))"
   ]
  },
  {
   "cell_type": "markdown",
   "metadata": {},
   "source": [
    "Так как код Хэмминга предназначен либо для исправления однократных ошибок, либо для обнаружения двухкратных, мы смогли обнаружить ошибку, но не смогли ее исправить. Попробуем теперь трехкратную ошибку."
   ]
  },
  {
   "cell_type": "code",
   "execution_count": 855,
   "metadata": {},
   "outputs": [
    {
     "name": "stdout",
     "output_type": "stream",
     "text": [
      "Кодовое слово (u): [1]\n",
      "Отправленное кодовое слово (v): [1 1 1]\n",
      "Допущенная ошибка: [1 1 1]\n",
      "Принятое с ошибкой слово: [0 0 0]\n",
      "Синдром принятого сообщения: [0 0]\n",
      "Синдрома нет в таблице, ошибка не исправлена.\n"
     ]
    }
   ],
   "source": [
    "hamming_correction_test(G, H, syndrome_table, 3, np.array([1]))"
   ]
  },
  {
   "cell_type": "markdown",
   "metadata": {},
   "source": [
    "Здесь возможно два варианта:\n",
    "1) Синдрома в таблице синдромов для конкретной трехкратной ошибки нет. Ошибку в данном случае исправить не получится. \n",
    "2) Синдром в таблице имеется, программа попытается исправить ошибку, но, конечно, результат будет неверным."
   ]
  },
  {
   "cell_type": "markdown",
   "metadata": {},
   "source": [
    "Аналогично, проведем исследование для r = 3. Пересчитаем проверочную матрицу"
   ]
  },
  {
   "cell_type": "code",
   "execution_count": 856,
   "metadata": {},
   "outputs": [
    {
     "data": {
      "text/plain": [
       "array([[1, 1, 1],\n",
       "       [1, 1, 0],\n",
       "       [1, 0, 1],\n",
       "       [0, 1, 1],\n",
       "       [1, 0, 0],\n",
       "       [0, 1, 0],\n",
       "       [0, 0, 1]])"
      ]
     },
     "execution_count": 856,
     "metadata": {},
     "output_type": "execute_result"
    }
   ],
   "source": [
    "r = 3\n",
    "H = generate_hamming_h_matrix(r)\n",
    "H"
   ]
  },
  {
   "cell_type": "markdown",
   "metadata": {},
   "source": [
    "Пересчитаем G"
   ]
  },
  {
   "cell_type": "code",
   "execution_count": 857,
   "metadata": {},
   "outputs": [
    {
     "data": {
      "text/plain": [
       "array([[1, 0, 0, 0, 1, 1, 1],\n",
       "       [0, 1, 0, 0, 1, 1, 0],\n",
       "       [0, 0, 1, 0, 1, 0, 1],\n",
       "       [0, 0, 0, 1, 0, 1, 1]])"
      ]
     },
     "execution_count": 857,
     "metadata": {},
     "output_type": "execute_result"
    }
   ],
   "source": [
    "G = H_to_G(H, r)\n",
    "G"
   ]
  },
  {
   "cell_type": "markdown",
   "metadata": {},
   "source": [
    "И составим заново таблицу синдромов"
   ]
  },
  {
   "cell_type": "code",
   "execution_count": 858,
   "metadata": {},
   "outputs": [
    {
     "data": {
      "text/plain": [
       "{(1, 1, 1): (0,),\n",
       " (1, 1, 0): (1,),\n",
       " (1, 0, 1): (2,),\n",
       " (0, 1, 1): (3,),\n",
       " (1, 0, 0): (4,),\n",
       " (0, 1, 0): (5,),\n",
       " (0, 0, 1): (6,)}"
      ]
     },
     "execution_count": 858,
     "metadata": {},
     "output_type": "execute_result"
    }
   ],
   "source": [
    "syndrome_table = generate_syndrome_table(H, 1)\n",
    "syndrome_table"
   ]
  },
  {
   "cell_type": "markdown",
   "metadata": {},
   "source": [
    "Передаем слово длины 4: \"1 0 0 1\". Сначала допустим однократную ошибку"
   ]
  },
  {
   "cell_type": "code",
   "execution_count": 859,
   "metadata": {},
   "outputs": [
    {
     "name": "stdout",
     "output_type": "stream",
     "text": [
      "Кодовое слово (u): [1 0 0 1]\n",
      "Отправленное кодовое слово (v): [1 0 0 1 1 0 0]\n",
      "Допущенная ошибка: [0 0 0 1 0 0 0]\n",
      "Принятое с ошибкой слово: [1 0 0 0 1 0 0]\n",
      "Синдром принятого сообщения: [0 1 1]\n",
      "Обнаружена ошибка!\n",
      "Исправленное сообщение: [1 0 0 1 1 0 0]\n",
      "Ошибка была исправлена успешно!\n"
     ]
    }
   ],
   "source": [
    "hamming_correction_test(G, H, syndrome_table, 1, np.array([1, 0, 0, 1]))"
   ]
  },
  {
   "cell_type": "markdown",
   "metadata": {},
   "source": [
    "Теперь для двухкратной ошибки"
   ]
  },
  {
   "cell_type": "code",
   "execution_count": 860,
   "metadata": {},
   "outputs": [
    {
     "name": "stdout",
     "output_type": "stream",
     "text": [
      "Кодовое слово (u): [1 0 0 1]\n",
      "Отправленное кодовое слово (v): [1 0 0 1 1 0 0]\n",
      "Допущенная ошибка: [1 0 1 0 0 0 0]\n",
      "Принятое с ошибкой слово: [0 0 1 1 1 0 0]\n",
      "Синдром принятого сообщения: [0 1 0]\n",
      "Обнаружена ошибка!\n",
      "Исправленное сообщение: [0 0 1 1 1 1 0]\n",
      "Ошибка не была исправлена корректно.\n"
     ]
    }
   ],
   "source": [
    "hamming_correction_test(G, H, syndrome_table, 2, np.array([1, 0, 0, 1]))"
   ]
  },
  {
   "cell_type": "markdown",
   "metadata": {},
   "source": [
    "И для трехкратной ошибки"
   ]
  },
  {
   "cell_type": "code",
   "execution_count": 861,
   "metadata": {},
   "outputs": [
    {
     "name": "stdout",
     "output_type": "stream",
     "text": [
      "Кодовое слово (u): [1 0 0 1]\n",
      "Отправленное кодовое слово (v): [1 0 0 1 1 0 0]\n",
      "Допущенная ошибка: [1 1 0 1 0 0 0]\n",
      "Принятое с ошибкой слово: [0 1 0 0 1 0 0]\n",
      "Синдром принятого сообщения: [0 1 0]\n",
      "Обнаружена ошибка!\n",
      "Исправленное сообщение: [0 1 0 0 1 1 0]\n",
      "Ошибка не была исправлена корректно.\n"
     ]
    }
   ],
   "source": [
    "hamming_correction_test(G, H, syndrome_table, 3, np.array([1, 0, 0, 1]))"
   ]
  },
  {
   "cell_type": "markdown",
   "metadata": {},
   "source": [
    "Результаты аналогичны r = 2. Теперь проведем исследование для r = 4"
   ]
  },
  {
   "cell_type": "markdown",
   "metadata": {},
   "source": [
    "Пересчитаем H"
   ]
  },
  {
   "cell_type": "code",
   "execution_count": 862,
   "metadata": {},
   "outputs": [
    {
     "data": {
      "text/plain": [
       "array([[1, 1, 1, 1],\n",
       "       [1, 1, 1, 0],\n",
       "       [1, 1, 0, 1],\n",
       "       [1, 1, 0, 0],\n",
       "       [1, 0, 1, 1],\n",
       "       [1, 0, 1, 0],\n",
       "       [1, 0, 0, 1],\n",
       "       [0, 1, 1, 1],\n",
       "       [0, 1, 1, 0],\n",
       "       [0, 1, 0, 1],\n",
       "       [0, 0, 1, 1],\n",
       "       [1, 0, 0, 0],\n",
       "       [0, 1, 0, 0],\n",
       "       [0, 0, 1, 0],\n",
       "       [0, 0, 0, 1]])"
      ]
     },
     "execution_count": 862,
     "metadata": {},
     "output_type": "execute_result"
    }
   ],
   "source": [
    "r = 4\n",
    "H = generate_hamming_h_matrix(r)\n",
    "H"
   ]
  },
  {
   "cell_type": "markdown",
   "metadata": {},
   "source": [
    "Пересчитаем G"
   ]
  },
  {
   "cell_type": "code",
   "execution_count": 863,
   "metadata": {},
   "outputs": [
    {
     "data": {
      "text/plain": [
       "array([[1, 0, 0, 0, 0, 0, 0, 0, 0, 0, 0, 1, 1, 1, 1],\n",
       "       [0, 1, 0, 0, 0, 0, 0, 0, 0, 0, 0, 1, 1, 1, 0],\n",
       "       [0, 0, 1, 0, 0, 0, 0, 0, 0, 0, 0, 1, 1, 0, 1],\n",
       "       [0, 0, 0, 1, 0, 0, 0, 0, 0, 0, 0, 1, 1, 0, 0],\n",
       "       [0, 0, 0, 0, 1, 0, 0, 0, 0, 0, 0, 1, 0, 1, 1],\n",
       "       [0, 0, 0, 0, 0, 1, 0, 0, 0, 0, 0, 1, 0, 1, 0],\n",
       "       [0, 0, 0, 0, 0, 0, 1, 0, 0, 0, 0, 1, 0, 0, 1],\n",
       "       [0, 0, 0, 0, 0, 0, 0, 1, 0, 0, 0, 0, 1, 1, 1],\n",
       "       [0, 0, 0, 0, 0, 0, 0, 0, 1, 0, 0, 0, 1, 1, 0],\n",
       "       [0, 0, 0, 0, 0, 0, 0, 0, 0, 1, 0, 0, 1, 0, 1],\n",
       "       [0, 0, 0, 0, 0, 0, 0, 0, 0, 0, 1, 0, 0, 1, 1]])"
      ]
     },
     "execution_count": 863,
     "metadata": {},
     "output_type": "execute_result"
    }
   ],
   "source": [
    "G = H_to_G(H, r)\n",
    "G"
   ]
  },
  {
   "cell_type": "markdown",
   "metadata": {},
   "source": [
    "Заново составим таблицу синдромов"
   ]
  },
  {
   "cell_type": "code",
   "execution_count": 864,
   "metadata": {},
   "outputs": [
    {
     "data": {
      "text/plain": [
       "{(1, 1, 1, 1): (0,),\n",
       " (1, 1, 1, 0): (1,),\n",
       " (1, 1, 0, 1): (2,),\n",
       " (1, 1, 0, 0): (3,),\n",
       " (1, 0, 1, 1): (4,),\n",
       " (1, 0, 1, 0): (5,),\n",
       " (1, 0, 0, 1): (6,),\n",
       " (0, 1, 1, 1): (7,),\n",
       " (0, 1, 1, 0): (8,),\n",
       " (0, 1, 0, 1): (9,),\n",
       " (0, 0, 1, 1): (10,),\n",
       " (1, 0, 0, 0): (11,),\n",
       " (0, 1, 0, 0): (12,),\n",
       " (0, 0, 1, 0): (13,),\n",
       " (0, 0, 0, 1): (14,)}"
      ]
     },
     "execution_count": 864,
     "metadata": {},
     "output_type": "execute_result"
    }
   ],
   "source": [
    "syndrome_table = generate_syndrome_table(H, 1)\n",
    "syndrome_table"
   ]
  },
  {
   "cell_type": "markdown",
   "metadata": {},
   "source": [
    "Передаем сообщение длины 11: \"0 0 1 0 1 1 0 0 1 1 1\". Допустим однократную ошибку"
   ]
  },
  {
   "cell_type": "code",
   "execution_count": 865,
   "metadata": {},
   "outputs": [
    {
     "name": "stdout",
     "output_type": "stream",
     "text": [
      "Кодовое слово (u): [0 0 1 0 1 1 0 0 1 1 1]\n",
      "Отправленное кодовое слово (v): [0 0 1 0 1 1 0 0 1 1 1 1 1 0 0]\n",
      "Допущенная ошибка: [0 0 0 0 0 0 0 0 0 0 0 0 0 0 1]\n",
      "Принятое с ошибкой слово: [0 0 1 0 1 1 0 0 1 1 1 1 1 0 1]\n",
      "Синдром принятого сообщения: [0 0 0 1]\n",
      "Обнаружена ошибка!\n",
      "Исправленное сообщение: [0 0 1 0 1 1 0 0 1 1 1 1 1 0 0]\n",
      "Ошибка была исправлена успешно!\n"
     ]
    }
   ],
   "source": [
    "hamming_correction_test(G, H, syndrome_table, 1, np.array([0, 0, 1, 0, 1, 1, 0, 0, 1, 1, 1]))"
   ]
  },
  {
   "cell_type": "markdown",
   "metadata": {},
   "source": [
    "Теперь допустим двухкратную ошибку"
   ]
  },
  {
   "cell_type": "code",
   "execution_count": 866,
   "metadata": {},
   "outputs": [
    {
     "name": "stdout",
     "output_type": "stream",
     "text": [
      "Кодовое слово (u): [0 0 1 0 1 1 0 0 1 1 1]\n",
      "Отправленное кодовое слово (v): [0 0 1 0 1 1 0 0 1 1 1 1 1 0 0]\n",
      "Допущенная ошибка: [0 0 0 0 0 1 1 0 0 0 0 0 0 0 0]\n",
      "Принятое с ошибкой слово: [0 0 1 0 1 0 1 0 1 1 1 1 1 0 0]\n",
      "Синдром принятого сообщения: [0 0 1 1]\n",
      "Обнаружена ошибка!\n",
      "Исправленное сообщение: [0 0 1 0 1 0 1 0 1 1 0 1 1 0 0]\n",
      "Ошибка не была исправлена корректно.\n"
     ]
    }
   ],
   "source": [
    "hamming_correction_test(G, H, syndrome_table, 2, np.array([0, 0, 1, 0, 1, 1, 0, 0, 1, 1, 1]))"
   ]
  },
  {
   "cell_type": "markdown",
   "metadata": {},
   "source": [
    "И, наконец, трехкратную ошибку"
   ]
  },
  {
   "cell_type": "code",
   "execution_count": 867,
   "metadata": {},
   "outputs": [
    {
     "name": "stdout",
     "output_type": "stream",
     "text": [
      "Кодовое слово (u): [0 0 1 0 1 1 0 0 1 1 1]\n",
      "Отправленное кодовое слово (v): [0 0 1 0 1 1 0 0 1 1 1 1 1 0 0]\n",
      "Допущенная ошибка: [0 0 0 1 0 0 0 0 0 0 1 0 0 0 1]\n",
      "Принятое с ошибкой слово: [0 0 1 1 1 1 0 0 1 1 0 1 1 0 1]\n",
      "Синдром принятого сообщения: [1 1 1 0]\n",
      "Обнаружена ошибка!\n",
      "Исправленное сообщение: [0 1 1 1 1 1 0 0 1 1 0 1 1 0 1]\n",
      "Ошибка не была исправлена корректно.\n"
     ]
    }
   ],
   "source": [
    "hamming_correction_test(G, H, syndrome_table, 3, np.array([0, 0, 1, 0, 1, 1, 0, 0, 1, 1, 1]))"
   ]
  },
  {
   "cell_type": "markdown",
   "metadata": {},
   "source": [
    "Результаты аналогичны r = 2, r = 3. Код Хэмминга позволяет либо исправлять однократную ошибку, либо обнаруживать двухкратную."
   ]
  },
  {
   "cell_type": "markdown",
   "metadata": {},
   "source": [
    "# 3.3"
   ]
  },
  {
   "cell_type": "markdown",
   "metadata": {},
   "source": [
    "Возьмем r = 2. Проверочную матрицу H* расширенного кода Хэмминга можно построить на основе проверочной матрицы обычного кода Хэмминга"
   ]
  },
  {
   "cell_type": "code",
   "execution_count": 868,
   "metadata": {},
   "outputs": [
    {
     "data": {
      "text/plain": [
       "array([[1, 1, 1],\n",
       "       [1, 0, 1],\n",
       "       [0, 1, 1],\n",
       "       [0, 0, 1]])"
      ]
     },
     "execution_count": 868,
     "metadata": {},
     "output_type": "execute_result"
    }
   ],
   "source": [
    "r = 2\n",
    "H = generate_hamming_h_matrix(r)\n",
    "H_exp = np.vstack((H, np.array([0] * H.shape[1])))\n",
    "H_exp = np.hstack((H_exp, np.array([[1] * H_exp.shape[0]]).T))\n",
    "H_exp"
   ]
  },
  {
   "cell_type": "markdown",
   "metadata": {},
   "source": [
    "Порождающую матрицу G* расширенного кода Хэмминга можно построить на основе порождающей матрицы обычного кода Хэмминга. Введем для этого функцию"
   ]
  },
  {
   "cell_type": "code",
   "execution_count": 869,
   "metadata": {},
   "outputs": [],
   "source": [
    "def expand_G_matrix(G: np.ndarray) -> np.ndarray:\n",
    "    col = np.zeros((G.shape[0], 1), dtype=int)\n",
    "    for i in range(G.shape[0]):\n",
    "        if sum(G[i]) % 2 == 1:\n",
    "            col[i] = 1\n",
    "    return np.hstack((G, col))"
   ]
  },
  {
   "cell_type": "code",
   "execution_count": 870,
   "metadata": {},
   "outputs": [
    {
     "data": {
      "text/plain": [
       "array([[1, 1, 1, 1]])"
      ]
     },
     "execution_count": 870,
     "metadata": {},
     "output_type": "execute_result"
    }
   ],
   "source": [
    "G = H_to_G(H, r)\n",
    "G_exp = expand_G_matrix(G)\n",
    "G_exp"
   ]
  },
  {
   "cell_type": "markdown",
   "metadata": {},
   "source": [
    "Построим таблицу синдромов"
   ]
  },
  {
   "cell_type": "code",
   "execution_count": 871,
   "metadata": {},
   "outputs": [
    {
     "data": {
      "text/plain": [
       "{(1, 1, 1): (0,), (1, 0, 1): (1,), (0, 1, 1): (2,), (0, 0, 1): (3,)}"
      ]
     },
     "execution_count": 871,
     "metadata": {},
     "output_type": "execute_result"
    }
   ],
   "source": [
    "syndrome_table = generate_syndrome_table(H_exp, 1)\n",
    "syndrome_table"
   ]
  },
  {
   "cell_type": "markdown",
   "metadata": {},
   "source": [
    "# 3.4"
   ]
  },
  {
   "cell_type": "markdown",
   "metadata": {},
   "source": [
    "Проведем исследование для r = 2. Передаем сообщение длины 1: \"1\". Допускаем однократную ошибку"
   ]
  },
  {
   "cell_type": "code",
   "execution_count": 872,
   "metadata": {},
   "outputs": [
    {
     "name": "stdout",
     "output_type": "stream",
     "text": [
      "Кодовое слово (u): [1]\n",
      "Отправленное кодовое слово (v): [1 1 1 1]\n",
      "Допущенная ошибка: [0 1 0 0]\n",
      "Принятое с ошибкой слово: [1 0 1 1]\n",
      "Синдром принятого сообщения: [1 0 1]\n",
      "Обнаружена ошибка!\n",
      "Исправленное сообщение: [1 1 1 1]\n",
      "Ошибка была исправлена успешно!\n"
     ]
    }
   ],
   "source": [
    "hamming_correction_test(G_exp, H_exp, syndrome_table, 1, np.array([1]))"
   ]
  },
  {
   "cell_type": "markdown",
   "metadata": {},
   "source": [
    "Допускаем двухкратную ошибку"
   ]
  },
  {
   "cell_type": "code",
   "execution_count": 873,
   "metadata": {},
   "outputs": [
    {
     "name": "stdout",
     "output_type": "stream",
     "text": [
      "Кодовое слово (u): [1]\n",
      "Отправленное кодовое слово (v): [1 1 1 1]\n",
      "Допущенная ошибка: [1 1 0 0]\n",
      "Принятое с ошибкой слово: [0 0 1 1]\n",
      "Синдром принятого сообщения: [0 1 0]\n",
      "Обнаружена ошибка!\n",
      "Синдрома нет в таблице, ошибка не исправлена.\n"
     ]
    }
   ],
   "source": [
    "hamming_correction_test(G_exp, H_exp, syndrome_table, 2, np.array([1]))"
   ]
  },
  {
   "cell_type": "markdown",
   "metadata": {},
   "source": [
    "Двухкратную ошибку исправить не удалось, но она была обнаружена"
   ]
  },
  {
   "cell_type": "markdown",
   "metadata": {},
   "source": [
    "Допускаем трехкратную ошибку"
   ]
  },
  {
   "cell_type": "code",
   "execution_count": 874,
   "metadata": {},
   "outputs": [
    {
     "name": "stdout",
     "output_type": "stream",
     "text": [
      "Кодовое слово (u): [1]\n",
      "Отправленное кодовое слово (v): [1 1 1 1]\n",
      "Допущенная ошибка: [0 1 1 1]\n",
      "Принятое с ошибкой слово: [1 0 0 0]\n",
      "Синдром принятого сообщения: [1 1 1]\n",
      "Обнаружена ошибка!\n",
      "Исправленное сообщение: [0 0 0 0]\n",
      "Ошибка не была исправлена корректно.\n"
     ]
    }
   ],
   "source": [
    "hamming_correction_test(G_exp, H_exp, syndrome_table, 3, np.array([1]))"
   ]
  },
  {
   "cell_type": "markdown",
   "metadata": {},
   "source": [
    "Трехкратную ошибку также удалось обнаружить, но не исправить"
   ]
  },
  {
   "cell_type": "markdown",
   "metadata": {},
   "source": [
    "Проведем исследование для r = 3. Перепишем H"
   ]
  },
  {
   "cell_type": "code",
   "execution_count": 875,
   "metadata": {},
   "outputs": [
    {
     "data": {
      "text/plain": [
       "array([[1, 1, 1, 1],\n",
       "       [1, 1, 0, 1],\n",
       "       [1, 0, 1, 1],\n",
       "       [0, 1, 1, 1],\n",
       "       [1, 0, 0, 1],\n",
       "       [0, 1, 0, 1],\n",
       "       [0, 0, 1, 1],\n",
       "       [0, 0, 0, 1]])"
      ]
     },
     "execution_count": 875,
     "metadata": {},
     "output_type": "execute_result"
    }
   ],
   "source": [
    "r = 3\n",
    "H = generate_hamming_h_matrix(r)\n",
    "H_exp = np.vstack((H, np.array([0] * H.shape[1])))\n",
    "H_exp = np.hstack((H_exp, np.array([[1] * H_exp.shape[0]]).T))\n",
    "H_exp"
   ]
  },
  {
   "cell_type": "markdown",
   "metadata": {},
   "source": [
    "Заново составим G"
   ]
  },
  {
   "cell_type": "code",
   "execution_count": 876,
   "metadata": {},
   "outputs": [
    {
     "data": {
      "text/plain": [
       "array([[1, 0, 0, 0, 1, 1, 1, 0],\n",
       "       [0, 1, 0, 0, 1, 1, 0, 1],\n",
       "       [0, 0, 1, 0, 1, 0, 1, 1],\n",
       "       [0, 0, 0, 1, 0, 1, 1, 1]])"
      ]
     },
     "execution_count": 876,
     "metadata": {},
     "output_type": "execute_result"
    }
   ],
   "source": [
    "G = H_to_G(H, r)\n",
    "G_exp = expand_G_matrix(G)\n",
    "G_exp"
   ]
  },
  {
   "cell_type": "markdown",
   "metadata": {},
   "source": [
    "Заново заполним таблицу синдромов"
   ]
  },
  {
   "cell_type": "code",
   "execution_count": 877,
   "metadata": {},
   "outputs": [
    {
     "data": {
      "text/plain": [
       "{(1, 1, 1, 1): (0,),\n",
       " (1, 1, 0, 1): (1,),\n",
       " (1, 0, 1, 1): (2,),\n",
       " (0, 1, 1, 1): (3,),\n",
       " (1, 0, 0, 1): (4,),\n",
       " (0, 1, 0, 1): (5,),\n",
       " (0, 0, 1, 1): (6,),\n",
       " (0, 0, 0, 1): (7,)}"
      ]
     },
     "execution_count": 877,
     "metadata": {},
     "output_type": "execute_result"
    }
   ],
   "source": [
    "syndrome_table = generate_syndrome_table(H_exp, 1)\n",
    "syndrome_table"
   ]
  },
  {
   "cell_type": "markdown",
   "metadata": {},
   "source": [
    "Отсылаем сообщение длины 4: \"1 0 1 0\". Допустим однократную ошибку"
   ]
  },
  {
   "cell_type": "code",
   "execution_count": 878,
   "metadata": {},
   "outputs": [
    {
     "name": "stdout",
     "output_type": "stream",
     "text": [
      "Кодовое слово (u): [1 0 1 0]\n",
      "Отправленное кодовое слово (v): [1 0 1 0 0 1 0 1]\n",
      "Допущенная ошибка: [0 0 1 0 0 0 0 0]\n",
      "Принятое с ошибкой слово: [1 0 0 0 0 1 0 1]\n",
      "Синдром принятого сообщения: [1 0 1 1]\n",
      "Обнаружена ошибка!\n",
      "Исправленное сообщение: [1 0 1 0 0 1 0 1]\n",
      "Ошибка была исправлена успешно!\n"
     ]
    }
   ],
   "source": [
    "hamming_correction_test(G_exp, H_exp, syndrome_table, 1, np.array([1, 0, 1, 0]))"
   ]
  },
  {
   "cell_type": "markdown",
   "metadata": {},
   "source": [
    "Допустим двухкратную ошибку"
   ]
  },
  {
   "cell_type": "code",
   "execution_count": 879,
   "metadata": {},
   "outputs": [
    {
     "name": "stdout",
     "output_type": "stream",
     "text": [
      "Кодовое слово (u): [1 0 1 0]\n",
      "Отправленное кодовое слово (v): [1 0 1 0 0 1 0 1]\n",
      "Допущенная ошибка: [1 0 0 0 0 0 1 0]\n",
      "Принятое с ошибкой слово: [0 0 1 0 0 1 1 1]\n",
      "Синдром принятого сообщения: [1 1 0 0]\n",
      "Обнаружена ошибка!\n",
      "Синдрома нет в таблице, ошибка не исправлена.\n"
     ]
    }
   ],
   "source": [
    "hamming_correction_test(G_exp, H_exp, syndrome_table, 2, np.array([1, 0, 1, 0]))"
   ]
  },
  {
   "cell_type": "markdown",
   "metadata": {},
   "source": [
    "Допустим трехкратную ошибку"
   ]
  },
  {
   "cell_type": "code",
   "execution_count": 880,
   "metadata": {},
   "outputs": [
    {
     "name": "stdout",
     "output_type": "stream",
     "text": [
      "Кодовое слово (u): [1 0 1 0]\n",
      "Отправленное кодовое слово (v): [1 0 1 0 0 1 0 1]\n",
      "Допущенная ошибка: [1 1 0 1 0 0 0 0]\n",
      "Принятое с ошибкой слово: [0 1 1 1 0 1 0 1]\n",
      "Синдром принятого сообщения: [0 1 0 1]\n",
      "Обнаружена ошибка!\n",
      "Исправленное сообщение: [0 1 1 1 0 0 0 1]\n",
      "Ошибка не была исправлена корректно.\n"
     ]
    }
   ],
   "source": [
    "hamming_correction_test(G_exp, H_exp, syndrome_table, 3, np.array([1, 0, 1, 0]))"
   ]
  },
  {
   "cell_type": "markdown",
   "metadata": {},
   "source": [
    "Результаты аналогичны r = 2. Аналогичное исследование проведем для r = 4. Перепишем H"
   ]
  },
  {
   "cell_type": "code",
   "execution_count": 881,
   "metadata": {},
   "outputs": [
    {
     "data": {
      "text/plain": [
       "array([[1, 1, 1, 1, 1],\n",
       "       [1, 1, 1, 0, 1],\n",
       "       [1, 1, 0, 1, 1],\n",
       "       [1, 1, 0, 0, 1],\n",
       "       [1, 0, 1, 1, 1],\n",
       "       [1, 0, 1, 0, 1],\n",
       "       [1, 0, 0, 1, 1],\n",
       "       [0, 1, 1, 1, 1],\n",
       "       [0, 1, 1, 0, 1],\n",
       "       [0, 1, 0, 1, 1],\n",
       "       [0, 0, 1, 1, 1],\n",
       "       [1, 0, 0, 0, 1],\n",
       "       [0, 1, 0, 0, 1],\n",
       "       [0, 0, 1, 0, 1],\n",
       "       [0, 0, 0, 1, 1],\n",
       "       [0, 0, 0, 0, 1]])"
      ]
     },
     "execution_count": 881,
     "metadata": {},
     "output_type": "execute_result"
    }
   ],
   "source": [
    "r = 4\n",
    "H = generate_hamming_h_matrix(r)\n",
    "H_exp = np.vstack((H, np.array([0] * H.shape[1])))\n",
    "H_exp = np.hstack((H_exp, np.array([[1] * H_exp.shape[0]]).T))\n",
    "H_exp"
   ]
  },
  {
   "cell_type": "markdown",
   "metadata": {},
   "source": [
    "Заново составим G"
   ]
  },
  {
   "cell_type": "code",
   "execution_count": 882,
   "metadata": {},
   "outputs": [
    {
     "data": {
      "text/plain": [
       "array([[1, 0, 0, 0, 0, 0, 0, 0, 0, 0, 0, 1, 1, 1, 1, 1],\n",
       "       [0, 1, 0, 0, 0, 0, 0, 0, 0, 0, 0, 1, 1, 1, 0, 0],\n",
       "       [0, 0, 1, 0, 0, 0, 0, 0, 0, 0, 0, 1, 1, 0, 1, 0],\n",
       "       [0, 0, 0, 1, 0, 0, 0, 0, 0, 0, 0, 1, 1, 0, 0, 1],\n",
       "       [0, 0, 0, 0, 1, 0, 0, 0, 0, 0, 0, 1, 0, 1, 1, 0],\n",
       "       [0, 0, 0, 0, 0, 1, 0, 0, 0, 0, 0, 1, 0, 1, 0, 1],\n",
       "       [0, 0, 0, 0, 0, 0, 1, 0, 0, 0, 0, 1, 0, 0, 1, 1],\n",
       "       [0, 0, 0, 0, 0, 0, 0, 1, 0, 0, 0, 0, 1, 1, 1, 0],\n",
       "       [0, 0, 0, 0, 0, 0, 0, 0, 1, 0, 0, 0, 1, 1, 0, 1],\n",
       "       [0, 0, 0, 0, 0, 0, 0, 0, 0, 1, 0, 0, 1, 0, 1, 1],\n",
       "       [0, 0, 0, 0, 0, 0, 0, 0, 0, 0, 1, 0, 0, 1, 1, 1]])"
      ]
     },
     "execution_count": 882,
     "metadata": {},
     "output_type": "execute_result"
    }
   ],
   "source": [
    "G = H_to_G(H, r)\n",
    "G_exp = expand_G_matrix(G)\n",
    "G_exp"
   ]
  },
  {
   "cell_type": "markdown",
   "metadata": {},
   "source": [
    "Заново составим таблицу синдромов"
   ]
  },
  {
   "cell_type": "code",
   "execution_count": 883,
   "metadata": {},
   "outputs": [
    {
     "data": {
      "text/plain": [
       "{(1, 1, 1, 1, 1): (0,),\n",
       " (1, 1, 1, 0, 1): (1,),\n",
       " (1, 1, 0, 1, 1): (2,),\n",
       " (1, 1, 0, 0, 1): (3,),\n",
       " (1, 0, 1, 1, 1): (4,),\n",
       " (1, 0, 1, 0, 1): (5,),\n",
       " (1, 0, 0, 1, 1): (6,),\n",
       " (0, 1, 1, 1, 1): (7,),\n",
       " (0, 1, 1, 0, 1): (8,),\n",
       " (0, 1, 0, 1, 1): (9,),\n",
       " (0, 0, 1, 1, 1): (10,),\n",
       " (1, 0, 0, 0, 1): (11,),\n",
       " (0, 1, 0, 0, 1): (12,),\n",
       " (0, 0, 1, 0, 1): (13,),\n",
       " (0, 0, 0, 1, 1): (14,),\n",
       " (0, 0, 0, 0, 1): (15,)}"
      ]
     },
     "execution_count": 883,
     "metadata": {},
     "output_type": "execute_result"
    }
   ],
   "source": [
    "syndrome_table = generate_syndrome_table(H_exp, 1)\n",
    "syndrome_table"
   ]
  },
  {
   "cell_type": "markdown",
   "metadata": {},
   "source": [
    "Отсылаем сообщение длины 11: \"1 0 0 1 1 1 1 0 1 1 0\". Допустим однократную ошибку"
   ]
  },
  {
   "cell_type": "code",
   "execution_count": 884,
   "metadata": {},
   "outputs": [
    {
     "name": "stdout",
     "output_type": "stream",
     "text": [
      "Кодовое слово (u): [1 0 0 1 1 1 1 0 1 1 0]\n",
      "Отправленное кодовое слово (v): [1 0 0 1 1 1 1 0 1 1 0 1 0 0 0 0]\n",
      "Допущенная ошибка: [0 0 0 0 0 0 0 0 0 0 0 0 0 0 1 0]\n",
      "Принятое с ошибкой слово: [1 0 0 1 1 1 1 0 1 1 0 1 0 0 1 0]\n",
      "Синдром принятого сообщения: [0 0 0 1 1]\n",
      "Обнаружена ошибка!\n",
      "Исправленное сообщение: [1 0 0 1 1 1 1 0 1 1 0 1 0 0 0 0]\n",
      "Ошибка была исправлена успешно!\n"
     ]
    }
   ],
   "source": [
    "hamming_correction_test(G_exp, H_exp, syndrome_table, 1, np.array([1, 0, 0, 1, 1, 1, 1, 0, 1, 1,0]))"
   ]
  },
  {
   "cell_type": "markdown",
   "metadata": {},
   "source": [
    "Допустим двухкратную ошибку"
   ]
  },
  {
   "cell_type": "code",
   "execution_count": 885,
   "metadata": {},
   "outputs": [
    {
     "name": "stdout",
     "output_type": "stream",
     "text": [
      "Кодовое слово (u): [1 0 0 1 1 1 1 0 1 1 0]\n",
      "Отправленное кодовое слово (v): [1 0 0 1 1 1 1 0 1 1 0 1 0 0 0 0]\n",
      "Допущенная ошибка: [0 0 1 0 0 0 0 0 0 0 0 0 0 0 1 0]\n",
      "Принятое с ошибкой слово: [1 0 1 1 1 1 1 0 1 1 0 1 0 0 1 0]\n",
      "Синдром принятого сообщения: [1 1 0 0 0]\n",
      "Обнаружена ошибка!\n",
      "Синдрома нет в таблице, ошибка не исправлена.\n"
     ]
    }
   ],
   "source": [
    "hamming_correction_test(G_exp, H_exp, syndrome_table, 2, np.array([1, 0, 0, 1, 1, 1, 1, 0, 1, 1,0]))"
   ]
  },
  {
   "cell_type": "markdown",
   "metadata": {},
   "source": [
    "Допустим трехкратную ошибку"
   ]
  },
  {
   "cell_type": "code",
   "execution_count": 886,
   "metadata": {},
   "outputs": [
    {
     "name": "stdout",
     "output_type": "stream",
     "text": [
      "Кодовое слово (u): [1 0 0 1 1 1 1 0 1 1 0]\n",
      "Отправленное кодовое слово (v): [1 0 0 1 1 1 1 0 1 1 0 1 0 0 0 0]\n",
      "Допущенная ошибка: [0 0 1 0 0 0 0 0 0 0 1 0 1 0 0 0]\n",
      "Принятое с ошибкой слово: [1 0 1 1 1 1 1 0 1 1 1 1 1 0 0 0]\n",
      "Синдром принятого сообщения: [1 0 1 0 1]\n",
      "Обнаружена ошибка!\n",
      "Исправленное сообщение: [1 0 1 1 1 0 1 0 1 1 1 1 1 0 0 0]\n",
      "Ошибка не была исправлена корректно.\n"
     ]
    }
   ],
   "source": [
    "hamming_correction_test(G_exp, H_exp, syndrome_table, 3, np.array([1, 0, 0, 1, 1, 1, 1, 0, 1, 1,0]))"
   ]
  },
  {
   "cell_type": "markdown",
   "metadata": {},
   "source": [
    "Получили результаты аналогичные r = 2 и r = 3. Расширенный код Хэмминга позволяет исправлять однократные ошибки и обнаруживать двухкратные одновременно."
   ]
  }
 ],
 "metadata": {
  "kernelspec": {
   "display_name": "Python 3",
   "language": "python",
   "name": "python3"
  },
  "language_info": {
   "codemirror_mode": {
    "name": "ipython",
    "version": 3
   },
   "file_extension": ".py",
   "mimetype": "text/x-python",
   "name": "python",
   "nbconvert_exporter": "python",
   "pygments_lexer": "ipython3",
   "version": "3.10.5"
  }
 },
 "nbformat": 4,
 "nbformat_minor": 2
}
