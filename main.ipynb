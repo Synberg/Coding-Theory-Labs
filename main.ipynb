{
 "cells": [
  {
   "metadata": {},
   "cell_type": "markdown",
   "source": "# Часть 1",
   "id": "ce60d01eb0f74cef"
  },
  {
   "metadata": {},
   "cell_type": "markdown",
   "source": "Напишем вспомогательны функции",
   "id": "eb2bf876c69c090b"
  },
  {
   "metadata": {
    "ExecuteTime": {
     "end_time": "2024-09-26T18:25:30.263210Z",
     "start_time": "2024-09-26T18:25:30.249222Z"
    }
   },
   "cell_type": "code",
   "source": [
    "import numpy as np\n",
    "\n",
    "\n",
    "def REF(matrix: np.ndarray) -> np.ndarray:\n",
    "    matrix = matrix.copy()  # Создаем копию матрицы, чтобы не изменять оригинал\n",
    "    m, n = matrix.shape\n",
    "    current_row = 0\n",
    "\n",
    "    for col in range(n):\n",
    "        # Поиск строки с ненулевым элементом в текущем столбце\n",
    "        row_with_leading_one = current_row\n",
    "        while row_with_leading_one < m and matrix[row_with_leading_one, col] == 0:\n",
    "            row_with_leading_one += 1\n",
    "\n",
    "        if row_with_leading_one == m:\n",
    "            continue  # Нет ненулевых элементов в этом столбце, пропускаем\n",
    "\n",
    "        # Меняем строки местами, если ведущий элемент не в текущей строке\n",
    "        if row_with_leading_one != current_row:\n",
    "            matrix[[row_with_leading_one, current_row]] = matrix[[current_row, row_with_leading_one]]\n",
    "\n",
    "        # Обнуляем все элементы ниже ведущего\n",
    "        for row_below in range(current_row + 1, m):\n",
    "            if matrix[row_below, col] == 1:\n",
    "                matrix[row_below] ^= matrix[current_row]\n",
    "\n",
    "        current_row += 1\n",
    "        if current_row == m:\n",
    "            break\n",
    "\n",
    "    # Удаляем строки, состоящие только из нулей\n",
    "    non_zero_rows = np.any(matrix, axis=1)\n",
    "    return matrix[non_zero_rows]\n",
    "\n",
    "\n",
    "def RREF(matrix: np.ndarray) -> np.ndarray:\n",
    "    matrix_copy = matrix.copy()  # Создаем глубокую копию матрицы, чтобы не изменять оригинал\n",
    "    m, n = matrix_copy.shape\n",
    "\n",
    "    # Идем снизу вверх по строкам\n",
    "    for current_row in range(m - 1, -1, -1):\n",
    "        leading_col = np.argmax(matrix_copy[current_row] != 0)\n",
    "        if matrix_copy[current_row, leading_col] == 0:\n",
    "            continue  # В строке только нули, пропускаем\n",
    "\n",
    "        # Обнуляем все элементы выше ведущего\n",
    "        for row_above in range(current_row):\n",
    "            if matrix_copy[row_above, leading_col] == 1:\n",
    "                matrix_copy[row_above] ^= matrix_copy[current_row]\n",
    "\n",
    "    return matrix_copy"
   ],
   "id": "6795def9f69932dc",
   "outputs": [],
   "execution_count": 32
  },
  {
   "metadata": {},
   "cell_type": "markdown",
   "source": "",
   "id": "a05d17b35761b9fa"
  },
  {
   "metadata": {},
   "cell_type": "markdown",
   "source": "Задание матрицы кодовых слов и порождающая матрица",
   "id": "fb239cf39dddb6d2"
  },
  {
   "metadata": {
    "ExecuteTime": {
     "end_time": "2024-09-26T18:25:30.388209Z",
     "start_time": "2024-09-26T18:25:30.374220Z"
    }
   },
   "cell_type": "code",
   "source": [
    "s_matrix = np.array([[1, 0, 0, 1, 0, 1, 1],\n",
    "                         [1, 1, 0, 0, 0, 0, 1],\n",
    "                         [0, 0, 1, 1, 0, 0, 1],\n",
    "                         [1, 0, 1, 0, 1, 0, 1],\n",
    "                         [0, 0, 1, 1, 1, 1, 0]])\n",
    "G = RREF(REF(s_matrix))\n",
    "G"
   ],
   "id": "6cd22a35d258631b",
   "outputs": [
    {
     "data": {
      "text/plain": [
       "array([[1, 0, 0, 1, 0, 1, 1],\n",
       "       [0, 1, 0, 1, 0, 1, 0],\n",
       "       [0, 0, 1, 1, 0, 0, 1],\n",
       "       [0, 0, 0, 0, 1, 1, 1]])"
      ]
     },
     "execution_count": 33,
     "metadata": {},
     "output_type": "execute_result"
    }
   ],
   "execution_count": 33
  },
  {
   "metadata": {},
   "cell_type": "markdown",
   "source": "Функция для приведения матрицы к стандартному виду",
   "id": "be455ca62bc98d88"
  },
  {
   "metadata": {
    "ExecuteTime": {
     "end_time": "2024-09-26T18:25:30.420222Z",
     "start_time": "2024-09-26T18:25:30.406221Z"
    }
   },
   "cell_type": "code",
   "source": [
    "def standard_view(matrix: np.ndarray) -> np.ndarray:\n",
    "    matrix = matrix.copy()  # Копируем матрицу, чтобы не изменять оригинал\n",
    "    m, n = matrix.shape\n",
    "    identity_columns = []\n",
    "\n",
    "    # Находим позиции ведущих единичных элементов\n",
    "    for i in range(m):\n",
    "        for j in range(n):\n",
    "            if matrix[i, j] == 1 and np.all(matrix[:, j] == (np.eye(m)[i])):\n",
    "                identity_columns.append(j)\n",
    "                break\n",
    "\n",
    "    # Проверяем, можно ли создать единичную матрицу из выбранных столбцов\n",
    "    if len(identity_columns) != m:\n",
    "        raise ValueError(\"Невозможно привести матрицу к стандартному виду\")\n",
    "\n",
    "    # Создаем перестановку столбцов: сначала identity_columns, затем остальные\n",
    "    remaining_columns = [j for j in range(n) if j not in identity_columns]\n",
    "    permuted_columns = identity_columns + remaining_columns\n",
    "\n",
    "    # Применяем перестановку к матрице\n",
    "    return matrix[:, permuted_columns]"
   ],
   "id": "5259adea1651d9c3",
   "outputs": [],
   "execution_count": 34
  },
  {
   "metadata": {},
   "cell_type": "markdown",
   "source": "Порождающая матрица G в стандартном виде",
   "id": "452a95b9027eef3b"
  },
  {
   "metadata": {
    "ExecuteTime": {
     "end_time": "2024-09-26T18:25:30.482596Z",
     "start_time": "2024-09-26T18:25:30.469213Z"
    }
   },
   "cell_type": "code",
   "source": [
    "G_standard = standard_view(G)\n",
    "G_standard"
   ],
   "id": "99ba70649a0e2fc1",
   "outputs": [
    {
     "data": {
      "text/plain": [
       "array([[1, 0, 0, 0, 1, 1, 1],\n",
       "       [0, 1, 0, 0, 1, 1, 0],\n",
       "       [0, 0, 1, 0, 1, 0, 1],\n",
       "       [0, 0, 0, 1, 0, 1, 1]])"
      ]
     },
     "execution_count": 35,
     "metadata": {},
     "output_type": "execute_result"
    }
   ],
   "execution_count": 35
  },
  {
   "metadata": {},
   "cell_type": "markdown",
   "source": "Функция для формирования проверочной матрицы",
   "id": "d70f3a540299c3d"
  },
  {
   "metadata": {
    "ExecuteTime": {
     "end_time": "2024-09-26T18:25:30.530443Z",
     "start_time": "2024-09-26T18:25:30.512450Z"
    }
   },
   "cell_type": "code",
   "source": [
    "def h_matrix(matrix: np.ndarray) -> np.ndarray:\n",
    "    # Определяем размеры порождающей матрицы\n",
    "    m, n = matrix.shape\n",
    "    # Извлекаем дополнительную часть X (столбцы справа от единичной матрицы)\n",
    "    X = matrix[:, m:n]\n",
    "    identity_matrix = np.eye(n - m, dtype=int)\n",
    "    return np.vstack((X, identity_matrix))"
   ],
   "id": "5bb0a0cc9d1f8fdb",
   "outputs": [],
   "execution_count": 36
  },
  {
   "metadata": {},
   "cell_type": "markdown",
   "source": "Проверочная матрица H",
   "id": "ff4362662cfb6bdd"
  },
  {
   "metadata": {
    "ExecuteTime": {
     "end_time": "2024-09-26T18:25:30.578451Z",
     "start_time": "2024-09-26T18:25:30.570445Z"
    }
   },
   "cell_type": "code",
   "source": [
    "H = h_matrix(G_standard)\n",
    "H"
   ],
   "id": "89100e29af07e3d6",
   "outputs": [
    {
     "data": {
      "text/plain": [
       "array([[1, 1, 1],\n",
       "       [1, 1, 0],\n",
       "       [1, 0, 1],\n",
       "       [0, 1, 1],\n",
       "       [1, 0, 0],\n",
       "       [0, 1, 0],\n",
       "       [0, 0, 1]])"
      ]
     },
     "execution_count": 37,
     "metadata": {},
     "output_type": "execute_result"
    }
   ],
   "execution_count": 37
  },
  {
   "metadata": {},
   "cell_type": "markdown",
   "source": "Фунция для генерации таблицы синдромов",
   "id": "cdf1a06f258418a4"
  },
  {
   "metadata": {
    "ExecuteTime": {
     "end_time": "2024-09-26T18:25:30.626442Z",
     "start_time": "2024-09-26T18:25:30.610447Z"
    }
   },
   "cell_type": "code",
   "source": [
    "import itertools\n",
    "\n",
    "def generate_syndrome_table(matrix: np.ndarray, error_weight: int) -> dict:\n",
    "    n = matrix.shape[0]\n",
    "    syndrome_table = {}\n",
    "    for error in range(1, error_weight + 1):\n",
    "        for error_indices in itertools.combinations(range(n), error):\n",
    "            error_vector = np.zeros(n, dtype=int)\n",
    "            for index in error_indices:\n",
    "                error_vector[index] = 1\n",
    "            syndrome = error_vector @ matrix % 2\n",
    "            syndrome_table[tuple(map(int, syndrome))] = tuple(error_indices)\n",
    "\n",
    "    return syndrome_table"
   ],
   "id": "3596e484347631f",
   "outputs": [],
   "execution_count": 38
  },
  {
   "metadata": {},
   "cell_type": "markdown",
   "source": "Таблица синдромов",
   "id": "c841d5eff8acd706"
  },
  {
   "metadata": {
    "ExecuteTime": {
     "end_time": "2024-09-26T18:25:30.658446Z",
     "start_time": "2024-09-26T18:25:30.649446Z"
    }
   },
   "cell_type": "code",
   "source": [
    "syndrome_table = generate_syndrome_table(H, 1)\n",
    "syndrome_table"
   ],
   "id": "b6d751a886099af",
   "outputs": [
    {
     "data": {
      "text/plain": [
       "{(1, 1, 1): (0,),\n",
       " (1, 1, 0): (1,),\n",
       " (1, 0, 1): (2,),\n",
       " (0, 1, 1): (3,),\n",
       " (1, 0, 0): (4,),\n",
       " (0, 1, 0): (5,),\n",
       " (0, 0, 1): (6,)}"
      ]
     },
     "execution_count": 39,
     "metadata": {},
     "output_type": "execute_result"
    }
   ],
   "execution_count": 39
  },
  {
   "metadata": {
    "ExecuteTime": {
     "end_time": "2024-09-26T18:25:30.706726Z",
     "start_time": "2024-09-26T18:25:30.691734Z"
    }
   },
   "cell_type": "code",
   "source": [
    "import random\n",
    "\n",
    "u = np.array([1, 0, 0, 1])\n",
    "v = u @ G_standard % 2\n",
    "print(\"Отправленное кодовое слово длины n = 7:\", v, sep=\"\\n\")\n",
    "error = np.array([0] * 7)\n",
    "error[random.randint(0, 6)] = 1\n",
    "print(\"Возникшая ошибка:\", error, sep=\"\\n\")\n",
    "v = (v + error) % 2\n",
    "print(\"Принятое с ошибкой слово:\", v, sep=\"\\n\")\n",
    "syndrome = v @ H % 2\n",
    "print(\"Синдром принятого сообщения:\", syndrome, sep=\"\\n\")\n",
    "error = np.array([0] * 7)\n",
    "error[syndrome_table[tuple(syndrome)][0]] = 1\n",
    "v = (v + error) % 2\n",
    "print(\"Исправленное сообщение:\", v, sep=\"\\n\")\n",
    "print(\"Отправленное и исправленное сообщение совпадают\")\n",
    "print()"
   ],
   "id": "efe2bc1e99c4c2b",
   "outputs": [
    {
     "name": "stdout",
     "output_type": "stream",
     "text": [
      "Отправленное кодовое слово длины n = 7:\n",
      "[1 0 0 1 1 0 0]\n",
      "Возникшая ошибка:\n",
      "[0 1 0 0 0 0 0]\n",
      "Принятое с ошибкой слово:\n",
      "[1 1 0 1 1 0 0]\n",
      "Синдром принятого сообщения:\n",
      "[1 1 0]\n",
      "Исправленное сообщение:\n",
      "[1 0 0 1 1 0 0]\n",
      "Отправленное и исправленное сообщение совпадают\n",
      "\n"
     ]
    }
   ],
   "execution_count": 40
  },
  {
   "metadata": {
    "ExecuteTime": {
     "end_time": "2024-09-26T18:25:30.770738Z",
     "start_time": "2024-09-26T18:25:30.756731Z"
    }
   },
   "cell_type": "code",
   "source": [
    "print(\"Кодовое слово длины k = 4:\", u, sep=\"\\n\")\n",
    "print(\"Отправленное кодовое слово длины n = 7:\", v, sep=\"\\n\")\n",
    "error = np.zeros(7, dtype=int)\n",
    "a, b = random.sample(range(7), 2)\n",
    "error[a], error[b] = 1, 1\n",
    "print(\"Возникшая ошибка:\", error, sep=\"\\n\")\n",
    "v = (v + error) % 2\n",
    "print(\"Принятое с ошибкой слово:\", v, sep=\"\\n\")\n",
    "syndrome = v @ H % 2\n",
    "print(\"Синдром принятого сообщения:\", syndrome, sep=\"\\n\")\n",
    "error = np.array([0] * 7)\n",
    "error[syndrome_table[tuple(syndrome)][0]] = 1\n",
    "v = (v + error) % 2\n",
    "print(\"Исправленное сообщение:\", v, sep=\"\\n\")\n",
    "print(\"Отправленное и исправленное сообщение не совпадают\")\n",
    "print()"
   ],
   "id": "73178cb8ba251215",
   "outputs": [
    {
     "name": "stdout",
     "output_type": "stream",
     "text": [
      "Кодовое слово длины k = 4:\n",
      "[1 0 0 1]\n",
      "Отправленное кодовое слово длины n = 7:\n",
      "[1 0 0 1 1 0 0]\n",
      "Возникшая ошибка:\n",
      "[0 1 0 0 0 1 0]\n",
      "Принятое с ошибкой слово:\n",
      "[1 1 0 1 1 1 0]\n",
      "Синдром принятого сообщения:\n",
      "[1 0 0]\n",
      "Исправленное сообщение:\n",
      "[1 1 0 1 0 1 0]\n",
      "Отправленное и исправленное сообщение не совпадают\n",
      "\n"
     ]
    }
   ],
   "execution_count": 41
  },
  {
   "metadata": {},
   "cell_type": "markdown",
   "source": "# 2 часть",
   "id": "7e809878fe4f5b2f"
  },
  {
   "metadata": {},
   "cell_type": "markdown",
   "source": "Зададим порождающую матрицу G в стандартном виде",
   "id": "6d1870c577246da9"
  },
  {
   "metadata": {
    "ExecuteTime": {
     "end_time": "2024-09-26T18:25:30.786728Z",
     "start_time": "2024-09-26T18:25:30.772732Z"
    }
   },
   "cell_type": "code",
   "source": [
    "G_standard = np.array([[1,0,0,0,1,1,1,1,0,0,0,0],\n",
    "                            [0,1,0,0,0,1,1,1,1,1,0,0],\n",
    "                            [0,0,1,0,1,0,0,1,1,1,1,0],\n",
    "                            [0,0,0,1,0,0,1,1,0,0,1,1]])\n",
    "G_standard"
   ],
   "id": "c48b9bef97b4f9f5",
   "outputs": [
    {
     "data": {
      "text/plain": [
       "array([[1, 0, 0, 0, 1, 1, 1, 1, 0, 0, 0, 0],\n",
       "       [0, 1, 0, 0, 0, 1, 1, 1, 1, 1, 0, 0],\n",
       "       [0, 0, 1, 0, 1, 0, 0, 1, 1, 1, 1, 0],\n",
       "       [0, 0, 0, 1, 0, 0, 1, 1, 0, 0, 1, 1]])"
      ]
     },
     "execution_count": 42,
     "metadata": {},
     "output_type": "execute_result"
    }
   ],
   "execution_count": 42
  },
  {
   "metadata": {},
   "cell_type": "markdown",
   "source": "Проверочная матрица H",
   "id": "77b6c28185d3d72"
  },
  {
   "metadata": {
    "ExecuteTime": {
     "end_time": "2024-09-26T18:25:30.802729Z",
     "start_time": "2024-09-26T18:25:30.788734Z"
    }
   },
   "cell_type": "code",
   "source": [
    "H = h_matrix(G_standard)\n",
    "H"
   ],
   "id": "4086c2e80fb37d9a",
   "outputs": [
    {
     "data": {
      "text/plain": [
       "array([[1, 1, 1, 1, 0, 0, 0, 0],\n",
       "       [0, 1, 1, 1, 1, 1, 0, 0],\n",
       "       [1, 0, 0, 1, 1, 1, 1, 0],\n",
       "       [0, 0, 1, 1, 0, 0, 1, 1],\n",
       "       [1, 0, 0, 0, 0, 0, 0, 0],\n",
       "       [0, 1, 0, 0, 0, 0, 0, 0],\n",
       "       [0, 0, 1, 0, 0, 0, 0, 0],\n",
       "       [0, 0, 0, 1, 0, 0, 0, 0],\n",
       "       [0, 0, 0, 0, 1, 0, 0, 0],\n",
       "       [0, 0, 0, 0, 0, 1, 0, 0],\n",
       "       [0, 0, 0, 0, 0, 0, 1, 0],\n",
       "       [0, 0, 0, 0, 0, 0, 0, 1]])"
      ]
     },
     "execution_count": 43,
     "metadata": {},
     "output_type": "execute_result"
    }
   ],
   "execution_count": 43
  },
  {
   "metadata": {},
   "cell_type": "markdown",
   "source": "Таблица синдромов",
   "id": "c576a29887033e75"
  },
  {
   "metadata": {
    "ExecuteTime": {
     "end_time": "2024-09-26T18:25:30.818733Z",
     "start_time": "2024-09-26T18:25:30.804737Z"
    }
   },
   "cell_type": "code",
   "source": [
    "syndrome_table = generate_syndrome_table(H, 2)\n",
    "syndrome_table"
   ],
   "id": "d061265911d79468",
   "outputs": [
    {
     "data": {
      "text/plain": [
       "{(1, 1, 1, 1, 0, 0, 0, 0): (0,),\n",
       " (0, 1, 1, 1, 1, 1, 0, 0): (1,),\n",
       " (1, 0, 0, 1, 1, 1, 1, 0): (2,),\n",
       " (0, 0, 1, 1, 0, 0, 1, 1): (3,),\n",
       " (1, 0, 0, 0, 0, 0, 0, 0): (4,),\n",
       " (0, 1, 0, 0, 0, 0, 0, 0): (5,),\n",
       " (0, 0, 1, 0, 0, 0, 0, 0): (6,),\n",
       " (0, 0, 0, 1, 0, 0, 0, 0): (7,),\n",
       " (0, 0, 0, 0, 1, 0, 0, 0): (8,),\n",
       " (0, 0, 0, 0, 0, 1, 0, 0): (9,),\n",
       " (0, 0, 0, 0, 0, 0, 1, 0): (10,),\n",
       " (0, 0, 0, 0, 0, 0, 0, 1): (11,),\n",
       " (1, 0, 0, 0, 1, 1, 0, 0): (0, 1),\n",
       " (0, 1, 1, 0, 1, 1, 1, 0): (0, 2),\n",
       " (1, 1, 0, 0, 0, 0, 1, 1): (0, 3),\n",
       " (0, 1, 1, 1, 0, 0, 0, 0): (0, 4),\n",
       " (1, 0, 1, 1, 0, 0, 0, 0): (0, 5),\n",
       " (1, 1, 0, 1, 0, 0, 0, 0): (0, 6),\n",
       " (1, 1, 1, 0, 0, 0, 0, 0): (0, 7),\n",
       " (1, 1, 1, 1, 1, 0, 0, 0): (0, 8),\n",
       " (1, 1, 1, 1, 0, 1, 0, 0): (0, 9),\n",
       " (1, 1, 1, 1, 0, 0, 1, 0): (0, 10),\n",
       " (1, 1, 1, 1, 0, 0, 0, 1): (0, 11),\n",
       " (1, 1, 1, 0, 0, 0, 1, 0): (1, 2),\n",
       " (0, 1, 0, 0, 1, 1, 1, 1): (1, 3),\n",
       " (1, 1, 1, 1, 1, 1, 0, 0): (1, 4),\n",
       " (0, 0, 1, 1, 1, 1, 0, 0): (1, 5),\n",
       " (0, 1, 0, 1, 1, 1, 0, 0): (1, 6),\n",
       " (0, 1, 1, 0, 1, 1, 0, 0): (1, 7),\n",
       " (0, 1, 1, 1, 0, 1, 0, 0): (1, 8),\n",
       " (0, 1, 1, 1, 1, 0, 0, 0): (1, 9),\n",
       " (0, 1, 1, 1, 1, 1, 1, 0): (1, 10),\n",
       " (0, 1, 1, 1, 1, 1, 0, 1): (1, 11),\n",
       " (1, 0, 1, 0, 1, 1, 0, 1): (2, 3),\n",
       " (0, 0, 0, 1, 1, 1, 1, 0): (2, 4),\n",
       " (1, 1, 0, 1, 1, 1, 1, 0): (2, 5),\n",
       " (1, 0, 1, 1, 1, 1, 1, 0): (2, 6),\n",
       " (1, 0, 0, 0, 1, 1, 1, 0): (2, 7),\n",
       " (1, 0, 0, 1, 0, 1, 1, 0): (2, 8),\n",
       " (1, 0, 0, 1, 1, 0, 1, 0): (2, 9),\n",
       " (1, 0, 0, 1, 1, 1, 0, 0): (2, 10),\n",
       " (1, 0, 0, 1, 1, 1, 1, 1): (2, 11),\n",
       " (1, 0, 1, 1, 0, 0, 1, 1): (3, 4),\n",
       " (0, 1, 1, 1, 0, 0, 1, 1): (3, 5),\n",
       " (0, 0, 0, 1, 0, 0, 1, 1): (3, 6),\n",
       " (0, 0, 1, 0, 0, 0, 1, 1): (3, 7),\n",
       " (0, 0, 1, 1, 1, 0, 1, 1): (3, 8),\n",
       " (0, 0, 1, 1, 0, 1, 1, 1): (3, 9),\n",
       " (0, 0, 1, 1, 0, 0, 0, 1): (3, 10),\n",
       " (0, 0, 1, 1, 0, 0, 1, 0): (3, 11),\n",
       " (1, 1, 0, 0, 0, 0, 0, 0): (4, 5),\n",
       " (1, 0, 1, 0, 0, 0, 0, 0): (4, 6),\n",
       " (1, 0, 0, 1, 0, 0, 0, 0): (4, 7),\n",
       " (1, 0, 0, 0, 1, 0, 0, 0): (4, 8),\n",
       " (1, 0, 0, 0, 0, 1, 0, 0): (4, 9),\n",
       " (1, 0, 0, 0, 0, 0, 1, 0): (4, 10),\n",
       " (1, 0, 0, 0, 0, 0, 0, 1): (4, 11),\n",
       " (0, 1, 1, 0, 0, 0, 0, 0): (5, 6),\n",
       " (0, 1, 0, 1, 0, 0, 0, 0): (5, 7),\n",
       " (0, 1, 0, 0, 1, 0, 0, 0): (5, 8),\n",
       " (0, 1, 0, 0, 0, 1, 0, 0): (5, 9),\n",
       " (0, 1, 0, 0, 0, 0, 1, 0): (5, 10),\n",
       " (0, 1, 0, 0, 0, 0, 0, 1): (5, 11),\n",
       " (0, 0, 1, 1, 0, 0, 0, 0): (6, 7),\n",
       " (0, 0, 1, 0, 1, 0, 0, 0): (6, 8),\n",
       " (0, 0, 1, 0, 0, 1, 0, 0): (6, 9),\n",
       " (0, 0, 1, 0, 0, 0, 1, 0): (6, 10),\n",
       " (0, 0, 1, 0, 0, 0, 0, 1): (6, 11),\n",
       " (0, 0, 0, 1, 1, 0, 0, 0): (7, 8),\n",
       " (0, 0, 0, 1, 0, 1, 0, 0): (7, 9),\n",
       " (0, 0, 0, 1, 0, 0, 1, 0): (7, 10),\n",
       " (0, 0, 0, 1, 0, 0, 0, 1): (7, 11),\n",
       " (0, 0, 0, 0, 1, 1, 0, 0): (8, 9),\n",
       " (0, 0, 0, 0, 1, 0, 1, 0): (8, 10),\n",
       " (0, 0, 0, 0, 1, 0, 0, 1): (8, 11),\n",
       " (0, 0, 0, 0, 0, 1, 1, 0): (9, 10),\n",
       " (0, 0, 0, 0, 0, 1, 0, 1): (9, 11),\n",
       " (0, 0, 0, 0, 0, 0, 1, 1): (10, 11)}"
      ]
     },
     "execution_count": 44,
     "metadata": {},
     "output_type": "execute_result"
    }
   ],
   "execution_count": 44
  },
  {
   "metadata": {},
   "cell_type": "markdown",
   "source": "Кодовое слово длины k = 4",
   "id": "2ba22bbab5a38286"
  },
  {
   "metadata": {
    "ExecuteTime": {
     "end_time": "2024-09-26T18:25:30.848733Z",
     "start_time": "2024-09-26T18:25:30.842731Z"
    }
   },
   "cell_type": "code",
   "source": [
    "u = np.array([0, 0, 1, 0])\n",
    "u"
   ],
   "id": "6c4e5481f86af789",
   "outputs": [
    {
     "data": {
      "text/plain": [
       "array([0, 0, 1, 0])"
      ]
     },
     "execution_count": 45,
     "metadata": {},
     "output_type": "execute_result"
    }
   ],
   "execution_count": 45
  },
  {
   "metadata": {},
   "cell_type": "markdown",
   "source": "Отправленное кодовое слово длины n = 12",
   "id": "4a018cf478e02356"
  },
  {
   "metadata": {
    "ExecuteTime": {
     "end_time": "2024-09-26T18:25:30.896726Z",
     "start_time": "2024-09-26T18:25:30.875740Z"
    }
   },
   "cell_type": "code",
   "source": [
    "v = u @ G_standard % 2\n",
    "v"
   ],
   "id": "8a238f9533a61d3c",
   "outputs": [
    {
     "data": {
      "text/plain": [
       "array([0, 0, 1, 0, 1, 0, 0, 1, 1, 1, 1, 0])"
      ]
     },
     "execution_count": 46,
     "metadata": {},
     "output_type": "execute_result"
    }
   ],
   "execution_count": 46
  },
  {
   "metadata": {},
   "cell_type": "markdown",
   "source": "Возникшая ошибка",
   "id": "c147cae2b54a6c0d"
  },
  {
   "metadata": {
    "ExecuteTime": {
     "end_time": "2024-09-26T18:25:30.958726Z",
     "start_time": "2024-09-26T18:25:30.936731Z"
    }
   },
   "cell_type": "code",
   "source": [
    "error = np.array([0] * 12)\n",
    "error[random.randint(0, 11)] = 1\n",
    "error"
   ],
   "id": "4a830b7d13cfdad3",
   "outputs": [
    {
     "data": {
      "text/plain": [
       "array([0, 0, 0, 1, 0, 0, 0, 0, 0, 0, 0, 0])"
      ]
     },
     "execution_count": 47,
     "metadata": {},
     "output_type": "execute_result"
    }
   ],
   "execution_count": 47
  },
  {
   "metadata": {},
   "cell_type": "markdown",
   "source": "Принятое с ошибкой слово",
   "id": "f551f1726e33e6fc"
  },
  {
   "metadata": {
    "ExecuteTime": {
     "end_time": "2024-09-26T18:25:30.974734Z",
     "start_time": "2024-09-26T18:25:30.962730Z"
    }
   },
   "cell_type": "code",
   "source": [
    "v = (v + error) % 2\n",
    "v"
   ],
   "id": "676dcb4ba0f895ce",
   "outputs": [
    {
     "data": {
      "text/plain": [
       "array([0, 0, 1, 1, 1, 0, 0, 1, 1, 1, 1, 0])"
      ]
     },
     "execution_count": 48,
     "metadata": {},
     "output_type": "execute_result"
    }
   ],
   "execution_count": 48
  },
  {
   "metadata": {},
   "cell_type": "markdown",
   "source": "Синдром принятого сообщения",
   "id": "ce37572a20d2225c"
  },
  {
   "metadata": {
    "ExecuteTime": {
     "end_time": "2024-09-26T18:25:31.021730Z",
     "start_time": "2024-09-26T18:25:31.000732Z"
    }
   },
   "cell_type": "code",
   "source": [
    "syndrome = v @ H % 2\n",
    "syndrome"
   ],
   "id": "f0cfca225440fd17",
   "outputs": [
    {
     "data": {
      "text/plain": [
       "array([0, 0, 1, 1, 0, 0, 1, 1])"
      ]
     },
     "execution_count": 49,
     "metadata": {},
     "output_type": "execute_result"
    }
   ],
   "execution_count": 49
  },
  {
   "metadata": {},
   "cell_type": "markdown",
   "source": "Исправленное сообщение",
   "id": "94107e305097be9c"
  },
  {
   "metadata": {
    "ExecuteTime": {
     "end_time": "2024-09-26T18:25:31.036726Z",
     "start_time": "2024-09-26T18:25:31.023735Z"
    }
   },
   "cell_type": "code",
   "source": [
    "error = np.array([0] * 12)\n",
    "for index in syndrome_table[tuple(syndrome)]:\n",
    "        error[index] = 1\n",
    "v = (v + error) % 2\n",
    "\n",
    "v"
   ],
   "id": "18def034ff13b4e5",
   "outputs": [
    {
     "data": {
      "text/plain": [
       "array([0, 0, 1, 0, 1, 0, 0, 1, 1, 1, 1, 0])"
      ]
     },
     "execution_count": 50,
     "metadata": {},
     "output_type": "execute_result"
    }
   ],
   "execution_count": 50
  },
  {
   "metadata": {},
   "cell_type": "markdown",
   "source": "Отправленное и исправленное сообщение совпадают",
   "id": "36e59641b1593d77"
  },
  {
   "metadata": {},
   "cell_type": "markdown",
   "source": "Две ошибки",
   "id": "e2a8d7736f0a14d2"
  },
  {
   "metadata": {
    "ExecuteTime": {
     "end_time": "2024-09-26T18:26:10.326340Z",
     "start_time": "2024-09-26T18:26:10.312330Z"
    }
   },
   "cell_type": "code",
   "source": [
    "print(\"Кодовое слово длины k = 4:\", u, sep=\"\\n\")\n",
    "print(\"Отправленное кодовое слово длины n = 12:\", v, sep=\"\\n\")\n",
    "error = np.array([0] * 12)\n",
    "a, b = random.sample(range(12), 2)\n",
    "error[a], error[b] = 1, 1\n",
    "print(\"Возникшая ошибка:\", error, sep=\"\\n\")\n",
    "v = (v + error) % 2\n",
    "print(\"Принятое с ошибкой слово:\", v, sep=\"\\n\")\n",
    "syndrome = v @ H % 2\n",
    "print(\"Синдром принятого сообщения:\", syndrome, sep=\"\\n\")\n",
    "error = np.array([0] * 12)\n",
    "for index in syndrome_table[tuple(syndrome)]:\n",
    "    error[index] = 1\n",
    "v = (v + error) % 2\n",
    "print(\"Исправленное сообщение:\", v, sep=\"\\n\")\n",
    "print(\"Отправленное и исправленное сообщение совпадают\")\n",
    "print()"
   ],
   "id": "79fb4e1272320702",
   "outputs": [
    {
     "name": "stdout",
     "output_type": "stream",
     "text": [
      "Кодовое слово длины k = 4:\n",
      "[0 0 1 0]\n",
      "Отправленное кодовое слово длины n = 12:\n",
      "[0 0 1 0 1 0 0 1 1 1 1 0]\n",
      "Возникшая ошибка:\n",
      "[0 1 0 0 0 0 0 0 1 0 0 0]\n",
      "Принятое с ошибкой слово:\n",
      "[0 1 1 0 1 0 0 1 0 1 1 0]\n",
      "Синдром принятого сообщения:\n",
      "[0 1 1 1 0 1 0 0]\n",
      "Исправленное сообщение:\n",
      "[0 0 1 0 1 0 0 1 1 1 1 0]\n",
      "Отправленное и исправленное сообщение совпадают\n",
      "\n"
     ]
    }
   ],
   "execution_count": 52
  },
  {
   "metadata": {},
   "cell_type": "markdown",
   "source": "Три ошибки",
   "id": "51e1c4e4ab636b56"
  },
  {
   "metadata": {
    "ExecuteTime": {
     "end_time": "2024-09-26T18:26:58.321070Z",
     "start_time": "2024-09-26T18:26:58.307074Z"
    }
   },
   "cell_type": "code",
   "source": [
    "print(\"Кодовое слово длины k = 4:\", u, sep=\"\\n\")\n",
    "print(\"Отправленное кодовое слово длины n = 12:\", v, sep=\"\\n\")\n",
    "error = np.array([0] * 12)\n",
    "a, b, c = random.sample(range(12), 3)\n",
    "error[a], error[b], error[c] = 1, 1, 1\n",
    "print(\"Возникшая ошибка:\", error, sep=\"\\n\")\n",
    "v = (v + error) % 2\n",
    "print(\"Принятое с ошибкой слово:\", v, sep=\"\\n\")\n",
    "syndrome = v @ H % 2\n",
    "print(\"Синдром принятого сообщения:\", syndrome, sep=\"\\n\")\n",
    "error = np.array([0] * 12)\n",
    "if tuple(syndrome) in syndrome_table:\n",
    "    for index in syndrome_table[tuple(syndrome)]:\n",
    "        error[index] = 1\n",
    "    v = (v + error) % 2\n",
    "    print(\"Исправленное сообщение:\", v, sep=\"\\n\")\n",
    "    print(\"Отправленное и исправленное сообщение не совпадают\")\n",
    "    print()\n",
    "else:\n",
    "    print(\"Синдрома, соответствующего данной ошибке, не найдено в таблице синдромов. Сообщение исправить невозможно.\")"
   ],
   "id": "ba2501c4917295f9",
   "outputs": [
    {
     "name": "stdout",
     "output_type": "stream",
     "text": [
      "Кодовое слово длины k = 4:\n",
      "[0 0 1 0]\n",
      "Отправленное кодовое слово длины n = 12:\n",
      "[0 0 1 0 1 0 0 1 1 1 1 0]\n",
      "Возникшая ошибка:\n",
      "[0 1 0 0 0 0 0 0 0 1 0 1]\n",
      "Принятое с ошибкой слово:\n",
      "[0 1 1 0 1 0 0 1 1 0 1 1]\n",
      "Синдром принятого сообщения:\n",
      "[0 1 1 1 1 0 0 1]\n",
      "Синдрома, соответствующего данной ошибке, не найдено в таблице синдромов. Сообщение исправить невозможно.\n"
     ]
    }
   ],
   "execution_count": 53
  }
 ],
 "metadata": {
  "kernelspec": {
   "display_name": "Python 3",
   "language": "python",
   "name": "python3"
  },
  "language_info": {
   "codemirror_mode": {
    "name": "ipython",
    "version": 2
   },
   "file_extension": ".py",
   "mimetype": "text/x-python",
   "name": "python",
   "nbconvert_exporter": "python",
   "pygments_lexer": "ipython2",
   "version": "2.7.6"
  }
 },
 "nbformat": 4,
 "nbformat_minor": 5
}
