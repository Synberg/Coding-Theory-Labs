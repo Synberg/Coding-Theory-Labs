{
 "cells": [
  {
   "cell_type": "markdown",
   "metadata": {},
   "source": [
    "# Часть 1"
   ]
  },
  {
   "cell_type": "markdown",
   "metadata": {},
   "source": [
    "## 4.1"
   ]
  },
  {
   "cell_type": "markdown",
   "metadata": {},
   "source": [
    "Зададим матрицу B для расширенного кода Голея"
   ]
  },
  {
   "cell_type": "code",
   "execution_count": 1022,
   "metadata": {},
   "outputs": [],
   "source": [
    "import numpy as np\n",
    "B = np.array([[1, 1, 0, 1, 1, 1, 0, 0, 0, 1, 0, 1],\n",
    "[1, 0, 1, 1, 1, 0, 0, 0, 1, 0, 1, 1],\n",
    "[0, 1, 1, 1, 0, 0, 0, 1, 0, 1, 1, 1],\n",
    "[1, 1, 1, 0, 0, 0, 1, 0, 1, 1, 0, 1],\n",
    "[1, 1, 0, 0, 0, 1, 0, 1, 1, 0, 1, 1],\n",
    "[1, 0, 0, 0, 1, 0, 1, 1, 0, 1, 1, 1],\n",
    "[0, 0, 0, 1, 0, 1, 1, 0, 1, 1, 1, 1],\n",
    "[0, 0, 1, 0, 1, 1, 0, 1, 1, 1, 0, 1],\n",
    "[0, 1, 0, 1, 1, 0, 1, 1, 1, 0, 0, 1],\n",
    "[1, 0, 1, 1, 0, 1, 1, 1, 0, 0, 0, 1],\n",
    "[0, 1, 1, 0, 1, 1, 1, 0, 0, 0, 1, 1],\n",
    "[1, 1, 1, 1, 1, 1, 1, 1, 1, 1, 1, 0]])"
   ]
  },
  {
   "cell_type": "markdown",
   "metadata": {},
   "source": [
    "Построим порождающую матрицу"
   ]
  },
  {
   "cell_type": "code",
   "execution_count": 1023,
   "metadata": {},
   "outputs": [
    {
     "name": "stdout",
     "output_type": "stream",
     "text": [
      "[[1 0 0 0 0 0 0 0 0 0 0 0 1 1 0 1 1 1 0 0 0 1 0 1]\n",
      " [0 1 0 0 0 0 0 0 0 0 0 0 1 0 1 1 1 0 0 0 1 0 1 1]\n",
      " [0 0 1 0 0 0 0 0 0 0 0 0 0 1 1 1 0 0 0 1 0 1 1 1]\n",
      " [0 0 0 1 0 0 0 0 0 0 0 0 1 1 1 0 0 0 1 0 1 1 0 1]\n",
      " [0 0 0 0 1 0 0 0 0 0 0 0 1 1 0 0 0 1 0 1 1 0 1 1]\n",
      " [0 0 0 0 0 1 0 0 0 0 0 0 1 0 0 0 1 0 1 1 0 1 1 1]\n",
      " [0 0 0 0 0 0 1 0 0 0 0 0 0 0 0 1 0 1 1 0 1 1 1 1]\n",
      " [0 0 0 0 0 0 0 1 0 0 0 0 0 0 1 0 1 1 0 1 1 1 0 1]\n",
      " [0 0 0 0 0 0 0 0 1 0 0 0 0 1 0 1 1 0 1 1 1 0 0 1]\n",
      " [0 0 0 0 0 0 0 0 0 1 0 0 1 0 1 1 0 1 1 1 0 0 0 1]\n",
      " [0 0 0 0 0 0 0 0 0 0 1 0 0 1 1 0 1 1 1 0 0 0 1 1]\n",
      " [0 0 0 0 0 0 0 0 0 0 0 1 1 1 1 1 1 1 1 1 1 1 1 0]]\n"
     ]
    }
   ],
   "source": [
    "G = np.hstack((np.eye(12, 12, dtype=int), B))\n",
    "print(G)"
   ]
  },
  {
   "cell_type": "markdown",
   "metadata": {},
   "source": [
    "Построим проверочную матрицу"
   ]
  },
  {
   "cell_type": "code",
   "execution_count": 1024,
   "metadata": {},
   "outputs": [
    {
     "name": "stdout",
     "output_type": "stream",
     "text": [
      "[[1 0 0 0 0 0 0 0 0 0 0 0]\n",
      " [0 1 0 0 0 0 0 0 0 0 0 0]\n",
      " [0 0 1 0 0 0 0 0 0 0 0 0]\n",
      " [0 0 0 1 0 0 0 0 0 0 0 0]\n",
      " [0 0 0 0 1 0 0 0 0 0 0 0]\n",
      " [0 0 0 0 0 1 0 0 0 0 0 0]\n",
      " [0 0 0 0 0 0 1 0 0 0 0 0]\n",
      " [0 0 0 0 0 0 0 1 0 0 0 0]\n",
      " [0 0 0 0 0 0 0 0 1 0 0 0]\n",
      " [0 0 0 0 0 0 0 0 0 1 0 0]\n",
      " [0 0 0 0 0 0 0 0 0 0 1 0]\n",
      " [0 0 0 0 0 0 0 0 0 0 0 1]\n",
      " [1 1 0 1 1 1 0 0 0 1 0 1]\n",
      " [1 0 1 1 1 0 0 0 1 0 1 1]\n",
      " [0 1 1 1 0 0 0 1 0 1 1 1]\n",
      " [1 1 1 0 0 0 1 0 1 1 0 1]\n",
      " [1 1 0 0 0 1 0 1 1 0 1 1]\n",
      " [1 0 0 0 1 0 1 1 0 1 1 1]\n",
      " [0 0 0 1 0 1 1 0 1 1 1 1]\n",
      " [0 0 1 0 1 1 0 1 1 1 0 1]\n",
      " [0 1 0 1 1 0 1 1 1 0 0 1]\n",
      " [1 0 1 1 0 1 1 1 0 0 0 1]\n",
      " [0 1 1 0 1 1 1 0 0 0 1 1]\n",
      " [1 1 1 1 1 1 1 1 1 1 1 0]]\n"
     ]
    }
   ],
   "source": [
    "H = np.vstack((np.eye(12, 12, dtype=int), B))\n",
    "print(H)"
   ]
  },
  {
   "cell_type": "markdown",
   "metadata": {},
   "source": [
    "## 4.2"
   ]
  },
  {
   "cell_type": "markdown",
   "metadata": {},
   "source": [
    "Напишем функцию для нахождения допущенной ошибки"
   ]
  },
  {
   "cell_type": "code",
   "execution_count": 1025,
   "metadata": {},
   "outputs": [],
   "source": [
    "def get_error(w, H, B):\n",
    "    s = w @ H % 2\n",
    "    u1 = None\n",
    "    if sum(s) <= 3:\n",
    "        u1 = np.array(s)\n",
    "        u1 = np.hstack((u1, np.zeros(len(s), dtype=int)))\n",
    "    else:\n",
    "        for i in range(len(B)):\n",
    "            temp = (s + B[i]) % 2\n",
    "            if sum(temp) <= 2:\n",
    "                ei = np.zeros(len(s), dtype=int)\n",
    "                ei[i] = 1\n",
    "                u1 = np.hstack((temp, ei))\n",
    "    if u1 is not None:\n",
    "        u1\n",
    "    else:\n",
    "        sB = s @ B % 2\n",
    "        if sum(sB) <= 3:\n",
    "            u1 = np.hstack((np.zeros(len(s), dtype=int), sB))\n",
    "        else:\n",
    "            for i in range(len(B)):\n",
    "                temp = (sB + B[i]) % 2\n",
    "                if sum(temp) <= 2:\n",
    "                    ei = np.zeros(len(s), dtype=int)\n",
    "                    ei[i] = 1\n",
    "                    u1 = np.hstack((ei, temp))\n",
    "    return u1\n"
   ]
  },
  {
   "cell_type": "markdown",
   "metadata": {},
   "source": [
    "Введем функцию для допущения ошибки и поиска этой самой ошибки при помощи get_error()"
   ]
  },
  {
   "cell_type": "code",
   "execution_count": 1026,
   "metadata": {},
   "outputs": [],
   "source": [
    "import random\n",
    "def gen_and_check_error(u, G, H, B, error_rate):\n",
    "    print(\"Исходное сообщение:\", u)\n",
    "    w = u @ G % 2\n",
    "    print(\"Отправленное сообщение\", w)\n",
    "    error = np.zeros(w.shape[0], dtype=int)\n",
    "    error_indices = random.sample(range(w.shape[0]), error_rate)\n",
    "    for index in error_indices:\n",
    "        error[index] = 1\n",
    "    print(\"Допущенная ошибка:\", error)\n",
    "    w = (w + error) % 2\n",
    "    print(\"Сообщение с ошибкой\", w)\n",
    "    error = get_error(w, H, B)\n",
    "    print(\"Вызываем get_error, получаем ошибку:\", error)\n",
    "    if error is None:\n",
    "        print(\"Ошибка обнаружена, исправить невозможно!\")\n",
    "        return\n",
    "    message = (w + error) % 2\n",
    "    print(\"Исправленное отправленное сообщение:\", message)\n",
    "    w = u @ G % 2\n",
    "    if (not np.array_equal(w, message)):\n",
    "        print(\"Сообщение было декодировано с ошибкой!\")"
   ]
  },
  {
   "cell_type": "markdown",
   "metadata": {},
   "source": [
    "Отправляем сообщение (1, 0, 0, 1, 1, 0, 0, 0, 1, 0, 1, 0). Допустим однократную ошибку"
   ]
  },
  {
   "cell_type": "code",
   "execution_count": 1027,
   "metadata": {},
   "outputs": [
    {
     "name": "stdout",
     "output_type": "stream",
     "text": [
      "Исходное сообщение: [1 0 0 1 1 0 0 0 1 0 1 0]\n",
      "Отправленное сообщение [1 0 0 1 1 0 0 0 1 0 1 0 1 1 0 0 1 1 1 0 1 0 0 1]\n",
      "Допущенная ошибка: [0 0 0 0 0 0 1 0 0 0 0 0 0 0 0 0 0 0 0 0 0 0 0 0]\n",
      "Сообщение с ошибкой [1 0 0 1 1 0 1 0 1 0 1 0 1 1 0 0 1 1 1 0 1 0 0 1]\n",
      "Вызываем get_error, получаем ошибку: [0 0 0 0 0 0 1 0 0 0 0 0 0 0 0 0 0 0 0 0 0 0 0 0]\n",
      "Исправленное отправленное сообщение: [1 0 0 1 1 0 0 0 1 0 1 0 1 1 0 0 1 1 1 0 1 0 0 1]\n"
     ]
    }
   ],
   "source": [
    "u = np.array([1, 0, 0, 1, 1, 0, 0, 0, 1, 0, 1, 0])\n",
    "gen_and_check_error(u, G, H, B, 1)"
   ]
  },
  {
   "cell_type": "markdown",
   "metadata": {},
   "source": [
    "Допустим двухкратную ошибку"
   ]
  },
  {
   "cell_type": "code",
   "execution_count": 1028,
   "metadata": {},
   "outputs": [
    {
     "name": "stdout",
     "output_type": "stream",
     "text": [
      "Исходное сообщение: [1 0 0 1 1 0 0 0 1 0 1 0]\n",
      "Отправленное сообщение [1 0 0 1 1 0 0 0 1 0 1 0 1 1 0 0 1 1 1 0 1 0 0 1]\n",
      "Допущенная ошибка: [0 0 0 0 0 0 0 0 0 0 0 0 0 0 0 0 0 0 1 0 0 1 0 0]\n",
      "Сообщение с ошибкой [1 0 0 1 1 0 0 0 1 0 1 0 1 1 0 0 1 1 0 0 1 1 0 1]\n",
      "Вызываем get_error, получаем ошибку: [0 0 0 0 0 0 0 0 0 0 0 0 0 0 0 0 0 0 1 0 0 1 0 0]\n",
      "Исправленное отправленное сообщение: [1 0 0 1 1 0 0 0 1 0 1 0 1 1 0 0 1 1 1 0 1 0 0 1]\n"
     ]
    }
   ],
   "source": [
    "gen_and_check_error(u, G, H, B, 2)"
   ]
  },
  {
   "cell_type": "markdown",
   "metadata": {},
   "source": [
    "Допустим трехкратную ошибку"
   ]
  },
  {
   "cell_type": "code",
   "execution_count": 1029,
   "metadata": {},
   "outputs": [
    {
     "name": "stdout",
     "output_type": "stream",
     "text": [
      "Исходное сообщение: [1 0 0 1 1 0 0 0 1 0 1 0]\n",
      "Отправленное сообщение [1 0 0 1 1 0 0 0 1 0 1 0 1 1 0 0 1 1 1 0 1 0 0 1]\n",
      "Допущенная ошибка: [0 0 0 0 0 0 0 0 0 0 1 1 0 0 0 1 0 0 0 0 0 0 0 0]\n",
      "Сообщение с ошибкой [1 0 0 1 1 0 0 0 1 0 0 1 1 1 0 1 1 1 1 0 1 0 0 1]\n",
      "Вызываем get_error, получаем ошибку: [0 0 0 0 0 0 0 0 0 0 1 1 0 0 0 1 0 0 0 0 0 0 0 0]\n",
      "Исправленное отправленное сообщение: [1 0 0 1 1 0 0 0 1 0 1 0 1 1 0 0 1 1 1 0 1 0 0 1]\n"
     ]
    }
   ],
   "source": [
    "gen_and_check_error(u, G, H, B, 3)"
   ]
  },
  {
   "cell_type": "markdown",
   "metadata": {},
   "source": [
    "Допустим четырехкратную ошибку"
   ]
  },
  {
   "cell_type": "code",
   "execution_count": 1030,
   "metadata": {},
   "outputs": [
    {
     "name": "stdout",
     "output_type": "stream",
     "text": [
      "Исходное сообщение: [1 0 0 1 1 0 0 0 1 0 1 0]\n",
      "Отправленное сообщение [1 0 0 1 1 0 0 0 1 0 1 0 1 1 0 0 1 1 1 0 1 0 0 1]\n",
      "Допущенная ошибка: [0 0 0 1 0 0 0 1 0 0 0 1 0 1 0 0 0 0 0 0 0 0 0 0]\n",
      "Сообщение с ошибкой [1 0 0 0 1 0 0 1 1 0 1 1 1 0 0 0 1 1 1 0 1 0 0 1]\n",
      "Вызываем get_error, получаем ошибку: None\n",
      "Ошибка обнаружена, исправить невозможно!\n"
     ]
    }
   ],
   "source": [
    "gen_and_check_error(u, G, H, B, 4)"
   ]
  },
  {
   "cell_type": "markdown",
   "metadata": {},
   "source": [
    "# Часть 2"
   ]
  },
  {
   "cell_type": "markdown",
   "metadata": {},
   "source": [
    "## 4.3"
   ]
  },
  {
   "cell_type": "markdown",
   "metadata": {},
   "source": [
    "Введем функцию для формирования порождающей матрица кода Рида-Маллера"
   ]
  },
  {
   "cell_type": "code",
   "execution_count": 1031,
   "metadata": {},
   "outputs": [],
   "source": [
    "def reed_muller_generator_matrix(r: int, m: int) -> np.ndarray:\n",
    "    # Базовый случай: r = 0 -> вектор из 1 длины 2^m\n",
    "    if r == 0:\n",
    "        return np.ones((1, 2**m), dtype=int)\n",
    "    \n",
    "    # Базовый случай: r = m -> G(m-1, m) и внизу вектор [0...01]\n",
    "    if r == m:\n",
    "        G_m_m_1_m = reed_muller_generator_matrix(m-1, m)\n",
    "        bottom_row = np.zeros((1, 2**m), dtype=int)\n",
    "        bottom_row[0, -1] = 1\n",
    "        return np.vstack([G_m_m_1_m, bottom_row])\n",
    "    \n",
    "    # Рекурсивный случай: [[G(r, m-1), G(r, m-1)],[0, G(r-1, m-1)]]\n",
    "    G_r_m_m_1 = reed_muller_generator_matrix(r, m-1)\n",
    "    G_r_m_1_m_m_1 = reed_muller_generator_matrix(r-1, m-1)\n",
    "    \n",
    "    # Верхняя часть: G(r, m-1) дублируется\n",
    "    top = np.hstack([G_r_m_m_1, G_r_m_m_1])\n",
    "    \n",
    "    # Нижняя часть: нули слева и G(r-1, m-1) справа\n",
    "    bottom = np.hstack([np.zeros((G_r_m_1_m_m_1.shape[0], G_r_m_1_m_m_1.shape[1]), dtype=int), G_r_m_1_m_m_1])\n",
    "    \n",
    "    # Объединение верхней и нижней части\n",
    "    return np.vstack([top, bottom])"
   ]
  },
  {
   "cell_type": "markdown",
   "metadata": {},
   "source": [
    "## 4.4"
   ]
  },
  {
   "cell_type": "markdown",
   "metadata": {},
   "source": [
    "Сформируем порождающую матрицу для RM(1, 3)"
   ]
  },
  {
   "cell_type": "code",
   "execution_count": 1032,
   "metadata": {},
   "outputs": [
    {
     "name": "stdout",
     "output_type": "stream",
     "text": [
      "[[1 1 1 1 1 1 1 1]\n",
      " [0 1 0 1 0 1 0 1]\n",
      " [0 0 1 1 0 0 1 1]\n",
      " [0 0 0 0 1 1 1 1]]\n"
     ]
    }
   ],
   "source": [
    "G = reed_muller_generator_matrix(1, 3)\n",
    "print(G)"
   ]
  },
  {
   "cell_type": "markdown",
   "metadata": {},
   "source": [
    "Введем функцию для произведения Кронекера"
   ]
  },
  {
   "cell_type": "code",
   "execution_count": 1033,
   "metadata": {},
   "outputs": [],
   "source": [
    "def kronecker_product(A: np.ndarray, B: np.ndarray) -> np.ndarray:\n",
    "    # Получаем размеры матриц\n",
    "    rows_A, cols_A = A.shape\n",
    "    rows_B, cols_B = B.shape\n",
    "    \n",
    "    # Инициализируем результирующую матрицу\n",
    "    result = np.zeros((rows_A * rows_B, cols_A * cols_B), dtype=A.dtype)\n",
    "    \n",
    "    # Вычисляем произведение Кронекера\n",
    "    for i in range(rows_A):\n",
    "        for j in range(cols_A):\n",
    "            result[i*rows_B:(i+1)*rows_B, j*cols_B:(j+1)*cols_B] = A[i, j] * B\n",
    "    \n",
    "    return result"
   ]
  },
  {
   "cell_type": "markdown",
   "metadata": {},
   "source": [
    "Введем функцию для формирования H_m^i"
   ]
  },
  {
   "cell_type": "code",
   "execution_count": 1034,
   "metadata": {},
   "outputs": [],
   "source": [
    "def H_matrix(H, m, i):\n",
    "    matrix = np.eye(2 ** (m - i), dtype=int)\n",
    "    matrix = kronecker_product(matrix, H)\n",
    "    matrix = kronecker_product(matrix, np.eye(2 ** (i - 1)))\n",
    "    return matrix"
   ]
  },
  {
   "cell_type": "markdown",
   "metadata": {},
   "source": [
    "Введем функцию, которая допускает ошибку в отправленном сообщении и исправляет ее"
   ]
  },
  {
   "cell_type": "code",
   "execution_count": 1035,
   "metadata": {},
   "outputs": [],
   "source": [
    "def gen_and_check_error_RM(u, G, error_rate, m):\n",
    "    print(\"Исходное сообщение:\", u)\n",
    "    w = u @ G % 2\n",
    "    print(\"Отправленное сообщение\", w)\n",
    "    error = np.zeros(w.shape[0], dtype=int)\n",
    "    error_indices = random.sample(range(w.shape[0]), error_rate)\n",
    "    for index in error_indices:\n",
    "        error[index] = 1\n",
    "    print(\"Допущенная ошибка:\", error)\n",
    "    w = (w + error) % 2\n",
    "    print(\"Сообщение с ошибкой\", w)\n",
    "    for i in range(len(w)):\n",
    "        if w[i] == 0:\n",
    "            w[i] = -1\n",
    "    w_array = []\n",
    "    H = np.array([[1, 1], [1, -1]])\n",
    "    w_array.append(w @ H_matrix(H, m, 1))\n",
    "    for i in range(2, m + 1):\n",
    "        w_array.append(w_array[-1] @ H_matrix(H, m, i))\n",
    "    maximum = w_array[0][0]\n",
    "    index = -1\n",
    "    for i in range(len(w_array)):\n",
    "        for j in range(len(w_array[i])):\n",
    "            if abs(w_array[i][j]) > abs(maximum):\n",
    "                index = j\n",
    "                maximum = w_array[i][j]\n",
    "    counter = 0\n",
    "    for i in range(len(w_array)):\n",
    "        for j in range(len(w_array[i])):\n",
    "            if abs(w_array[i][j]) == abs(maximum):\n",
    "                counter += 1\n",
    "            if (counter > 1):\n",
    "                print(\"Невозможно исправить ошибку!\")\n",
    "                return\n",
    "    message = list(map(int, list(('{' + f'0:0{m}b' + '}').format(index))))\n",
    "    if maximum > 0:\n",
    "        message.append(1)\n",
    "    else:\n",
    "        message.append(0)\n",
    "    print(\"Исправленное сообщение:\", np.array(message[::-1]))\n",
    "    if (not np.array_equal(u, message)):\n",
    "        print(\"Сообщение было декодировано с ошибкой!\")"
   ]
  },
  {
   "cell_type": "markdown",
   "metadata": {},
   "source": [
    "Допустим однократную ошибку"
   ]
  },
  {
   "cell_type": "code",
   "execution_count": 1036,
   "metadata": {},
   "outputs": [
    {
     "name": "stdout",
     "output_type": "stream",
     "text": [
      "Исходное сообщение: [1 0 0 1]\n",
      "Отправленное сообщение [1 1 1 1 0 0 0 0]\n",
      "Допущенная ошибка: [0 0 1 0 0 0 0 0]\n",
      "Сообщение с ошибкой [1 1 0 1 0 0 0 0]\n",
      "Исправленное сообщение: [1 0 0 1]\n"
     ]
    }
   ],
   "source": [
    "m = 3\n",
    "u = np.array([1, 0, 0, 1])\n",
    "gen_and_check_error_RM(u, G, 1, m)"
   ]
  },
  {
   "cell_type": "markdown",
   "metadata": {},
   "source": [
    "Допустим двухкратную ошибку"
   ]
  },
  {
   "cell_type": "code",
   "execution_count": 1037,
   "metadata": {},
   "outputs": [
    {
     "name": "stdout",
     "output_type": "stream",
     "text": [
      "Исходное сообщение: [1 0 0 1]\n",
      "Отправленное сообщение [1 1 1 1 0 0 0 0]\n",
      "Допущенная ошибка: [0 1 0 1 0 0 0 0]\n",
      "Сообщение с ошибкой [1 0 1 0 0 0 0 0]\n",
      "Невозможно исправить ошибку!\n"
     ]
    }
   ],
   "source": [
    "gen_and_check_error_RM(u, G, 2, m)"
   ]
  },
  {
   "cell_type": "markdown",
   "metadata": {},
   "source": [
    "# 4.5"
   ]
  },
  {
   "cell_type": "markdown",
   "metadata": {},
   "source": [
    "Сформируем порождающую матрицу для RM(1, 4)"
   ]
  },
  {
   "cell_type": "code",
   "execution_count": 1038,
   "metadata": {},
   "outputs": [
    {
     "name": "stdout",
     "output_type": "stream",
     "text": [
      "[[1 1 1 1 1 1 1 1 1 1 1 1 1 1 1 1]\n",
      " [0 1 0 1 0 1 0 1 0 1 0 1 0 1 0 1]\n",
      " [0 0 1 1 0 0 1 1 0 0 1 1 0 0 1 1]\n",
      " [0 0 0 0 1 1 1 1 0 0 0 0 1 1 1 1]\n",
      " [0 0 0 0 0 0 0 0 1 1 1 1 1 1 1 1]]\n"
     ]
    }
   ],
   "source": [
    "G = reed_muller_generator_matrix(1, 4)\n",
    "print(G)"
   ]
  },
  {
   "cell_type": "markdown",
   "metadata": {},
   "source": [
    "Допустим однократную ошибку"
   ]
  },
  {
   "cell_type": "code",
   "execution_count": 1039,
   "metadata": {},
   "outputs": [
    {
     "name": "stdout",
     "output_type": "stream",
     "text": [
      "Исходное сообщение: [1 0 1 0 1]\n",
      "Отправленное сообщение [1 1 0 0 1 1 0 0 0 0 1 1 0 0 1 1]\n",
      "Допущенная ошибка: [0 0 0 0 0 1 0 0 0 0 0 0 0 0 0 0]\n",
      "Сообщение с ошибкой [1 1 0 0 1 0 0 0 0 0 1 1 0 0 1 1]\n",
      "Исправленное сообщение: [1 0 1 0 1]\n"
     ]
    }
   ],
   "source": [
    "m = 4\n",
    "u = np.array([1, 0, 1, 0, 1])\n",
    "gen_and_check_error_RM(u, G, 1, m)"
   ]
  },
  {
   "cell_type": "markdown",
   "metadata": {},
   "source": [
    "Допустим двухкратную ошибку"
   ]
  },
  {
   "cell_type": "code",
   "execution_count": 1040,
   "metadata": {},
   "outputs": [
    {
     "name": "stdout",
     "output_type": "stream",
     "text": [
      "Исходное сообщение: [1 0 1 0 1]\n",
      "Отправленное сообщение [1 1 0 0 1 1 0 0 0 0 1 1 0 0 1 1]\n",
      "Допущенная ошибка: [0 1 0 0 0 1 0 0 0 0 0 0 0 0 0 0]\n",
      "Сообщение с ошибкой [1 0 0 0 1 0 0 0 0 0 1 1 0 0 1 1]\n",
      "Исправленное сообщение: [1 0 1 0 1]\n"
     ]
    }
   ],
   "source": [
    "gen_and_check_error_RM(u, G, 2, m)"
   ]
  },
  {
   "cell_type": "markdown",
   "metadata": {},
   "source": [
    "Допустим трехкратную ошибку"
   ]
  },
  {
   "cell_type": "code",
   "execution_count": 1041,
   "metadata": {},
   "outputs": [
    {
     "name": "stdout",
     "output_type": "stream",
     "text": [
      "Исходное сообщение: [1 0 1 0 1]\n",
      "Отправленное сообщение [1 1 0 0 1 1 0 0 0 0 1 1 0 0 1 1]\n",
      "Допущенная ошибка: [0 0 0 0 1 0 0 0 1 0 0 1 0 0 0 0]\n",
      "Сообщение с ошибкой [1 1 0 0 0 1 0 0 1 0 1 0 0 0 1 1]\n",
      "Исправленное сообщение: [1 0 1 0 1]\n"
     ]
    }
   ],
   "source": [
    "gen_and_check_error_RM(u, G, 3, m)"
   ]
  },
  {
   "cell_type": "markdown",
   "metadata": {},
   "source": [
    "Допустим четырехкратную ошибку"
   ]
  },
  {
   "cell_type": "code",
   "execution_count": 1042,
   "metadata": {},
   "outputs": [
    {
     "name": "stdout",
     "output_type": "stream",
     "text": [
      "Исходное сообщение: [1 0 1 0 1]\n",
      "Отправленное сообщение [1 1 0 0 1 1 0 0 0 0 1 1 0 0 1 1]\n",
      "Допущенная ошибка: [0 0 1 0 0 0 0 1 0 1 0 0 0 0 1 0]\n",
      "Сообщение с ошибкой [1 1 1 0 1 1 0 1 0 1 1 1 0 0 0 1]\n",
      "Невозможно исправить ошибку!\n"
     ]
    }
   ],
   "source": [
    "gen_and_check_error_RM(u, G, 4, m)"
   ]
  }
 ],
 "metadata": {
  "kernelspec": {
   "display_name": "Python 3",
   "language": "python",
   "name": "python3"
  },
  "language_info": {
   "codemirror_mode": {
    "name": "ipython",
    "version": 3
   },
   "file_extension": ".py",
   "mimetype": "text/x-python",
   "name": "python",
   "nbconvert_exporter": "python",
   "pygments_lexer": "ipython3",
   "version": "3.10.5"
  }
 },
 "nbformat": 4,
 "nbformat_minor": 2
}
